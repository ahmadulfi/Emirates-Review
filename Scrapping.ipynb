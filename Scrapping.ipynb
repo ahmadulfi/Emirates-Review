{
 "cells": [
  {
   "attachments": {},
   "cell_type": "markdown",
   "metadata": {},
   "source": [
    "# Emirates Review Project"
   ]
  },
  {
   "attachments": {},
   "cell_type": "markdown",
   "metadata": {},
   "source": [
    "This project created by **Ahmad Ulfi Jihad Dzulqornain** for data analyst portfolio <br>\n",
    "\n",
    "Our adventure begins with a visit to the beloved website AirlineQuality.com, where we'll immerse ourselves in a treasure trove of reviews from Emirates passengers. But before we set off, let's make sure we have all the necessary tools in our arsenal:\n"
   ]
  },
  {
   "attachments": {},
   "cell_type": "markdown",
   "metadata": {},
   "source": [
    "_______"
   ]
  },
  {
   "attachments": {},
   "cell_type": "markdown",
   "metadata": {},
   "source": [
    "First thing first, we need to install the package needed including:\n",
    "- Selenium 🕸️\n",
    "- BeautifulSoup4 🍲\n",
    "- Pandas 🐼\n",
    "- Numpy 🔢"
   ]
  },
  {
   "attachments": {},
   "cell_type": "markdown",
   "metadata": {},
   "source": [
    "Join me on this thrilling adventure through the Emirates Review Project, where we'll soar through the skies of data analysis, discovering the highs, the lows, and everything in between. Let's unravel the stories, sentiments, and trends that shape the Emirates airline experience."
   ]
  },
  {
   "attachments": {},
   "cell_type": "markdown",
   "metadata": {},
   "source": [
    "```Note: This project is a showcase of my data analysis skills and is not officially affiliated with Emirates or AirlineQuality.com.✍️```"
   ]
  },
  {
   "cell_type": "code",
   "execution_count": 1,
   "metadata": {},
   "outputs": [],
   "source": [
    "import pandas as pd\n",
    "from selenium import webdriver\n",
    "from selenium.webdriver.common.by import By\n",
    "from selenium import webdriver\n",
    "from bs4 import BeautifulSoup\n",
    "import time\n",
    "import numpy as np\n",
    "from tqdm import tqdm\n",
    "import os\n",
    "import pickle\n",
    "from datetime import datetime"
   ]
  },
  {
   "attachments": {},
   "cell_type": "markdown",
   "metadata": {},
   "source": [
    "Display default pertama di web tersebut hanya memunculkan 10 review. Agar lebih efektif, saya buka akses untuk menampilkan 100 review. Setelah itu saya melakukan scraping yang terdiri atas: <br>\n",
    "- Nama\n",
    "- Asal Negara\n",
    "- Tanggal \n",
    "- Overall Rating (by 10)\n",
    "- Headline\n",
    "- Review\n",
    "- Aircraft\n",
    "- Type of Traveller\n",
    "- Seat Type\n",
    "- Route\n",
    "- Seat Comfort Rating\n",
    "- Cabin Staff Service Rating\n",
    "- FnB Rating\n",
    "- Inflight Entertainment Rating\n",
    "- Ground Service Rating\n",
    "- Wifi & Connectivity Rating\n",
    "- Value for Money Rating\n",
    "- Recommended (Yes/No)"
   ]
  },
  {
   "attachments": {},
   "cell_type": "markdown",
   "metadata": {},
   "source": [
    "This `next_page` function is created to navigate through the next page. Because sometimes it got the same xpath but sometimes is not. So we using try-loop from possible xpaths."
   ]
  },
  {
   "cell_type": "code",
   "execution_count": 2,
   "metadata": {},
   "outputs": [],
   "source": [
    "def next_page():\n",
    "    xpaths = [\n",
    "        '//*[@id=\"main\"]/section[3]/div[1]/div/article/ul/li[15]/a',\n",
    "        '//*[@id=\"main\"]/section[3]/div[1]/div/article/ul/li[14]/a',\n",
    "        '//*[@id=\"main\"]/section[3]/div[1]/div/article/ul/li[13]/a',\n",
    "        '//*[@id=\"main\"]/section[3]/div[1]/div/article/ul/li[12]/a',\n",
    "        '//*[@id=\"main\"]/section[3]/div[1]/div/article/ul/li[11]/a',\n",
    "        '//*[@id=\"main\"]/section[3]/div[1]/div/article/ul/li[10]/a',\n",
    "        '//*[@id=\"main\"]/section[3]/div[1]/div/article/ul/li[9]/a',\n",
    "        '//*[@id=\"main\"]/section[3]/div[1]/div/article/ul/li[8]/a'\n",
    "    ]\n",
    "\n",
    "    for xpath in xpaths:\n",
    "        try:\n",
    "            driver.find_element(By.XPATH, xpath).click()\n",
    "            break  # Break the loop if element is found and clicked\n",
    "        except:\n",
    "            pass\n",
    "    # Code continues...\n"
   ]
  },
  {
   "attachments": {},
   "cell_type": "markdown",
   "metadata": {},
   "source": [
    "The provided code uses Selenium and BeautifulSoup libraries to scrape airline reviews from the website [https://www.airlinequality.com/airline-reviews/emirates/](https://www.airlinequality.com/airline-reviews/emirates/).\n",
    "\n",
    "**Code Flow:**\n",
    "- Initializes a Chrome WebDriver session.\n",
    "- Navigates to the specified URL.\n",
    "- Clicks the \"Show 100\" button to display 100 reviews per page.\n",
    "- Parses HTML responses and stores them in a dictionary.\n",
    "- Loops through multiple pages, navigating to the next page and waiting for it to load.\n",
    "- Closes the WebDriver session.\n",
    "\n",
    "This code enables efficient scraping of airline reviews for further analysis.\n"
   ]
  },
  {
   "cell_type": "code",
   "execution_count": 5,
   "metadata": {},
   "outputs": [
    {
     "name": "stderr",
     "output_type": "stream",
     "text": [
      "C:\\Users\\ASUS\\AppData\\Local\\Temp\\ipykernel_14796\\3487215999.py:2: DeprecationWarning: executable_path has been deprecated, please pass in a Service object\n",
      "  driver = webdriver.Chrome(path_chromedriver)\n"
     ]
    },
    {
     "data": {
      "text/plain": [
       "<bound method WebDriver.close of <selenium.webdriver.chrome.webdriver.WebDriver (session=\"fd949afb81d82ab74d477243a86ee5ba\")>>"
      ]
     },
     "execution_count": 5,
     "metadata": {},
     "output_type": "execute_result"
    }
   ],
   "source": [
    "path_chromedriver = os.path.join(os.getcwd(),\"chromedriver_win32\\chromedriver.exe\")\n",
    "driver = webdriver.Chrome(path_chromedriver)\n",
    "url = 'https://www.airlinequality.com/airline-reviews/emirates/'\n",
    "\n",
    "#Website\n",
    "driver.get(url)\n",
    "time.sleep(1)\n",
    "\n",
    "\n",
    "show_100 = '//*[@id=\"main\"]/section[3]/div[1]/article/div[1]/div[2]/form/ul/li[4]/label'\n",
    "driver.find_element(By.XPATH, show_100).click()\n",
    "\n",
    "# Parse HTML\n",
    "response_dict = {}\n",
    "for page_num in range(1, 24):  # Assuming 23 pages in total\n",
    "    response_key = page_num\n",
    "    response_dict[response_key] = BeautifulSoup(driver.page_source, 'html.parser')\n",
    "\n",
    "    # Navigate to the next page\n",
    "    next_page()\n",
    "    time.sleep(2)\n",
    "driver.close"
   ]
  },
  {
   "cell_type": "code",
   "execution_count": 26,
   "metadata": {},
   "outputs": [],
   "source": [
    "# Simpan dictionary ke dalam file\n",
    "filename = 'datascrap.pkl'\n",
    "with open(filename, 'wb') as file:\n",
    "    pickle.dump(response_dict, file)\n"
   ]
  },
  {
   "cell_type": "code",
   "execution_count": 14,
   "metadata": {},
   "outputs": [],
   "source": [
    "# Buka kembali file dan muat dictionary\n",
    "with open('datascrap.pkl', 'rb') as file:\n",
    "    loaded_dict = pickle.load(file)"
   ]
  },
  {
   "cell_type": "code",
   "execution_count": 8,
   "metadata": {},
   "outputs": [],
   "source": [
    "result = response_dict[1]"
   ]
  },
  {
   "cell_type": "code",
   "execution_count": 16,
   "metadata": {},
   "outputs": [],
   "source": [
    "result = loaded_dict[6]"
   ]
  },
  {
   "cell_type": "code",
   "execution_count": 17,
   "metadata": {},
   "outputs": [
    {
     "name": "stdout",
     "output_type": "stream",
     "text": [
      "['J Caminet', 'V Shandira', 'Loay Osman', 'Elias Parker', 'S Kunda', 'Roy Carpenter', 'D Barton', 'Ahmad Hafeez', 'Piotr Wegrzyn', 'Piotr Wegrzyn', 'India Stoughton', 'H Deiner', 'B Ramatos', 'Olivier Gueris', 'W Dean', 'P Kalak', 'Alena Paletar', 'R Robinson', 'M Carter', 'Anslem Wong', 'S Mellor', 'N Larten', 'V Warnuda', 'S Remzam', 'D Meares', 'Jan Birkner', 'Mandy Brawn', 'A Dergan', 'Jan Birkner', 'Ambika Sharma', 'Riccardo Micci', 'Umer Khan', 'S Danleepa', 'David Kassai', 'Z Haneed', 'Amal Bukhamseen', 'Katie Wong', 'Mossie Banks', 'Madhav Devarakonda', 'B Masten', 'Melissa Legner', 'M Heany', 'M Lafarina', 'R Hazanul', 'R Hazanul', 'G Dawes', 'David Houlihan', 'M Harmaz', 'Almuth Waechter', 'O Hemar', 'J Meares', 'James Goldie', 'Ali Shahid', 'A Samali', 'Bhavesh Devkaran', 'A Kazeen', 'Damiano Massimi', 'David Wharton', 'Neil Jeram', 'Neil Jeram', 'J Candare', 'Y Mack-Bazemore', 'N Martin', 'B Lakuwiec', 'S White', 'Rabia Sarwar', 'P Jahinda', 'Mostafa Hassan', 'C Beale', 'L Martich', 'R Leborti', 'M Schroeder', 'Riccardo Micci', 'Mira AlBishtawi', 'V Markas', 'F Marten', 'K Stasenia', 'S Darezki', 'J Wainman', 'K Chen', 'S Dorler', 'Ahmed Alhilou', 'Rebekah Ann Cassar Dimech', 'Panyana Kitt', 'Elaine Chai ', 'D Hanson', 'V Ghanale', 'Maxine Tong', 'Janine Bessant', 'J Marnerol', 'D Halina', 'F Samuwa', 'Candice Byrne', 'Ralf Mohs', 'Andrea Spindel', 'Sean Donnelly', 'R Geer', 'C Weare', 'Oktay Kemal', 'Roshan Neupane']\n"
     ]
    }
   ],
   "source": [
    "#Retrieve User Name\n",
    "name_element = result.find_all('span',itemprop='name')\n",
    "name = [name.text for name in name_element]\n",
    "print(name)"
   ]
  },
  {
   "cell_type": "code",
   "execution_count": 18,
   "metadata": {},
   "outputs": [
    {
     "name": "stdout",
     "output_type": "stream",
     "text": [
      "['Australia', 'Australia', 'United Arab Emirates', 'United States', 'United States', 'Portugal', 'United Kingdom', 'United Kingdom', 'Norway', 'Norway', 'Lebanon', 'United Kingdom', 'United States', 'Kazakhstan', 'United States', 'India', 'Canada', 'United Kingdom', 'United Kingdom', 'Malaysia', 'United Kingdom', 'United States', 'United Kingdom', 'United Kingdom', 'United Kingdom', 'Germany', 'United Kingdom', 'United Arab Emirates', 'Germany', 'Australia', 'South Africa', 'United States', 'United States', 'Switzerland', 'Pakistan', 'Saudi Arabia', 'Hong Kong', 'United Kingdom', 'Germany', 'United States', 'Austria', 'Australia', 'Switzerland', 'United Kingdom', 'United Kingdom', 'United Kingdom', 'Bahrain', 'United Kingdom', 'New Zealand', 'Egypt', 'United Kingdom', 'United Arab Emirates', 'Kuwait', 'Maldives', 'India', 'United States', 'Germany', 'United Kingdom', 'Australia', 'Australia', 'Belgium', 'United States', 'United States', 'United Kingdom', 'Australia', 'United States', 'United Arab Emirates', 'Australia', 'Australia', 'New Zealand', 'Italy', 'Germany', 'South Africa', 'United Arab Emirates', 'United Kingdom', 'United Kingdom', 'Estonia', 'Poland', 'United Kingdom', 'Singapore', 'Taiwan', 'United Kingdom', 'Malta', 'Thailand', 'Ireland', 'United States', 'United Arab Emirates', 'Singapore', 'Australia', 'Spain', 'Mauritius', 'Australia', 'Germany', 'Germany', 'Australia', 'Australia', 'United Kingdom', 'Australia', 'Turkey', 'Canada']\n"
     ]
    }
   ],
   "source": [
    "#Retrieve Country Name\n",
    "country_element = result.find_all('span',itemprop=\"author\")\n",
    "countries = [element.next_sibling.strip(' ()\"')\n",
    "             for element in country_element]\n",
    "print(countries)"
   ]
  },
  {
   "cell_type": "code",
   "execution_count": 19,
   "metadata": {},
   "outputs": [],
   "source": [
    "#Retrieve Date Published\n",
    "date_element = result.find_all('time',itemprop='datePublished')\n",
    "dates = [element['datetime'] for element in date_element]\n",
    "#Change type\n",
    "dates = [datetime.strptime(string_dates,'%Y-%m-%d')\n",
    "         for string_dates in dates]"
   ]
  },
  {
   "cell_type": "code",
   "execution_count": 20,
   "metadata": {},
   "outputs": [
    {
     "name": "stdout",
     "output_type": "stream",
     "text": [
      "[4, 10, 3, 2, 7, 4, 2, 4, 4, 4, 6, 1, 4, 1, 1, 10, 1, 6, 2, 9, 1, 1, 1, 2, 2, 10, 9, 1, 10, 3, 8, 5, 2, 3, 3, 2, 1, 2, 10, 1, 1, 1, 10, 5, 6, 3, 4, 3, 7, 5, 5, 9, 4, 3, 7, 1, 10, 2, 6, 6, 1, 3, 4, 3, 9, 3, 4, 1, 2, 1, 6, 1, 6, 1, 1, 3, 3, 4, 10, 2, 9, 10, 1, 7, 2, 9, 1, 5, 2, 2, 5, 3, 4, 9, 4, 3, 6, 1, 5, 1]\n"
     ]
    }
   ],
   "source": [
    "#Rating\n",
    "rating_element = result.find_all('span',itemprop=\"ratingValue\")\n",
    "rating = [int(element.text) for element in rating_element][1:] #Because the first value is the overall value that always appear in each page\n",
    "print(rating)"
   ]
  },
  {
   "cell_type": "code",
   "execution_count": 21,
   "metadata": {},
   "outputs": [
    {
     "name": "stdout",
     "output_type": "stream",
     "text": [
      "['seats low quality and grubby', 'had a fantastic flight', 'the worst flight I ever had with EK', 'it has been a nightmare', 'exceeded my expectation', 'Emirates is cost cutting', 'Emirates is vastly overrated', 'flight was unremarkable', 'choose an another airline', 'I expected something more', 'Terrible customer service', ' Such a terrible service.', 'Very bad customer service', 'display different info', 'like they cut costs severely', 'Attendants welcomed us', 'I would never fly with Emirates again', 'Really poor show', 'seems to have cut costs', 'would still recommend', 'penalizing its most loyal customers', 'never fly Emirates again', 'experienced the worst service', 'cutbacks and poor service', 'good service until lunch', 'a great flight with Emirates', 'upgraded to business', 'spend $600+ for the fee', 'We had an exceptional flight', 'avoid Dubai airport', 'food offered on this flight gets a 10/10', 'service is declining', 'been incredibly disappointing', 'I was very disappointed', 'I had worst experience', 'worse airline experience', 'I am very disappointed', 'Inflight service was so poor', 'fly with Emirates again', 'pay twice for overweight baggage', 'worst I have ever experienced', 'had to miss my first flight', 'want to fly Emirates again', 'lost its great service reputation', 'individual did amazing job', 'service levels were atrocious and disinterested', 'crew stoic, tired looking', 'not use this service again', 'Service could be improved', 'asking me to get my seat straight', 'Staff not interested', \"one of the world's best airlines\", 'luggage came much later', 'such a disappointment', 'service was not up to the mark', 'never want to fly Emirates again', 'punctual and reliable service', 'service is now a huge let down', 'A one time leader has slipped', 'gets away with sloppy standards', 'worst customer service', 'service has gone done', 'dreading my return trip', 'quality has fallen down', 'superior customer care skills', 'I was really disappointed', 'clearly being rude', 'they re-selected the seating', 'reputation is starting to fade', 'would not move my seat', \"didn't clean the toilet\", 'Very disappointing', 'good fare for this return ticket', 'I was very disappointed', 'Absolutely rubbish flight', 'Budget long haul airline', 'Ground service 1-star', 'service good but average', 'flights were problem free', 'a budget flight experience', 'Lots of entertainment on board', 'an excellent experience', ' reserve meals 48 hours in advance', 'will recommend A380 only', '30 dollars to add characters to my name', 'Would fly again', 'I paid extra for my laptop.', 'journey was rather disappointing', 'not pay any compensation', 'got it wrong all the way', 'did not like conduct of staff', 'had the worst flight experience', 'customer service needs review', 'excellent Y experience', 'disappointed with the service', 'unfriendly and abrupt', 'deterioration in service standards', \"worst experience I've ever had\", 'only served chicken for a meal', 'worst experience ever', 'Vote for the Worlds Best Airlne', 'THE WORLDS BEST AIRLINES', 'THE CLEANEST AIRLINE', 'Emirates Photos']\n"
     ]
    }
   ],
   "source": [
    "#Retrieve Headline\n",
    "headline_element = result.find_all(class_='text_header')\n",
    "headline = [element.text.strip('\"') for element in headline_element]\n",
    "print(headline)"
   ]
  },
  {
   "cell_type": "code",
   "execution_count": 28,
   "metadata": {},
   "outputs": [
    {
     "name": "stdout",
     "output_type": "stream",
     "text": [
      "['✅ Trip Verified |  Brisbane to Dubai. I always thought Emirates was supposed to be one of the best but let me tell you, it is not. The staff were pretty professional but that is common among airlines. I was initially excited to be flying in an A380 for the first time but the moment I boarded, my heart sunk. It was obvious Emirates had chosen the the cheapest possible configuration that you would expect on a budget domestic airline. The seats were super low quality and grubby. There was next to no padding which made it painful for a 14 hour flight. The air was dry, but worse is the LED lighting which has a low Hz flicker. This becomes migraine inducing as the lighting splits into green blue and red as you move your eyes about. There is also an insufficient number of toilets available. The Boeing 787 is much better from my experiences on other airlines. Overall disappointed.', \"✅ Trip Verified |  Melbourne to Dubai via Singapore. I had a fantastic flight with Emirates, from check-in to arrival.  The ground staff were organised and efficiently boarded all passengers. The flight crew ensured I was comfortable and even the odd chat when they weren't busy. One even went out of her way to help me translate something into Arabic. The meals were more than adequate. In-flight Wi-Fi was affordable - $20 for unlimited wi-fi.\", '✅ Trip Verified | Probably the worst flight I ever had with EK since I started flying with them 13 years ago. My route was DXB-CAI and return both ways were with very old outdated B777. First of all EK stopped handing hot towels prior to take off, inflight magazines are removed from the seat pocket probably to reduce cost. On the way DXB-CAI we boarded on time however there was a delay of 1 full hour sitting on board with no explanation. Crew didn’t even bother to serve water or a juice and no explanation from the captain, secondly my headphones were not working properly due to the age of the aircraft and I had to keep holding it. Seat was broken and always reclining however I informed the crew but nothing happened, they kept asking me to adjust my seat to up position and I kept telling them it was broken. On the way back it was the opposite, it wouldn’t recline at all. The food service also has dropped a lot with the quality of the meal service and the portions which have become similar to what you get on a Low cost. When arrived back to Dubai also 30 mins late the luggage was delayed for more than an hour, they announced on the speakers but no explanation which led to being late for my early morning meeting as was supposed to land at 7:10am and had meeting at 9:30 am but I had to cancel it and of course no explanation or visibility of EK staff. I’m seriously trying to avoid using them as much as possible now. Very disappointed with what they have became.', '✅ Trip Verified |  Houston to Dubai. We have so much high opinion about Emirates since we had flown 3 years back. But looks like new Emirates is about boasting and less action. Right from the time we checked in to inflight cabin crew to nightmare of changing the flights, it has been a nightmare. When i send a feedback to Emirates, no reply back from them. The cabin crew has no regards to the passenger and they would not even react to the call unless you personally go to their area and ask for water. The customer service was a nightmare. Based on where you call, you get that type of service.  If there are other options, i would avoid flying Emirates. ', \"Not Verified | Newark to Delhi via Dubai. Prior to flying with Emirates, I flew with all the American and major European airlines in North America, and Europe. I must say Emirates is way better than all, and exceeded my expectation. Seating quality, leg space, TV screen, selection of movies and tv shows, food all are fantastic. As of now, this is the best airline so far. This was the fifth time I was flying with this airline, and I will continue with them. Also, connecting in Dubai airport is easy. Security screening is very fast and convenient. The airport itself is amazing, so if you're flying with Emirates and transiting here in Dubai, you're in great hands!\", '✅ Trip Verified | Flight EK191 on 19th March had aircraft change from 777-300 to 777-200. We always reserve (at extra cost) dual seats of row 48 but were re-allocated to seats row 37 which on the seat map look identical. However, on boarding we found that 3 extra rows had added and row 37 was a normal triple seat. The purser apologised and moved us to the only double row available in row 39 - the one with fixed arm rests and of-set screens. My request for a refund of the seat reservation charge of €80 was refused on the grounds that Emirates are allowed to make changes for \\'operational reasons\\'. Because of the extra rows seat pitch is now 31\" and not the 33\" - 34\" shown on the seat map. Food quality has also dropped but I overcame this by ordering a Kosher meal for this return flight which was delicious after waiting 20 minutes for it to thaw out! As others have said Emirates is cost cutting to the detriment of its reputation whereas adding 1-2% to fares would avoid this.', '✅ Trip Verified |  \\nManchester to Dubai. Emirates is vastly overrated. Good inflight entertainment but that is it. Poor impersonal service that was surly, their cabin crew are far from the best. The whole experience lacked any character and as for the afternoon tea before landing - their version of a sandwich is a literally one quarter of what even the most diet conscious would expect. Fly Emirates to be treated like just a number. Not looking forward to return flight. Luggage took about an hour to arrive in Dubai.', \"✅ Trip Verified | London Gatwick to Islamabad via Dubai. My first time on Emirates. I had heard good things about this airline in the past so decided to give it a go. Baggage drop-off at Gatwick was fine. The gate at Gatwick was horrible, a small space to accommodate all economy class passenger of an A380. Most of us had to stand for a long time before boarding commenced as the seating at the gate were totally inadequate. My seat on the A380 was comfortable but the IFE did not work. The seat would not recline either. The stewardess tried to help but ended up apologizing for the broken IFE and seat. The meal service was good and the quality of food reasonable, however, the portion sizes were very small. The flight from Dubai to Islamabad was not good at all. Boarding at Dubai was chaotic, Most passengers were not allowed to take their hand luggage on board with them as according the staff at the gate the flight was full and there would not be enough space on the plane for hand luggage despite the fact that most people had just one item of hand luggage with them. The boarding process took a long time and the gate staff didn't seem too bothered. The seats on Boeing 777-300ER were extremely uncomfortable, the legroom was very tight and the seat width was also very cramped. Shortly after boarding completed, the cabin lights were switched off with on the screens and seat belt signs providing any light. The captain announced that we would be delayed due to heavy traffic along our flight path. No cabin crew were around to answer any queries and any calls for them were ignored. We eventually left Dubai over an hour late. The rest of the flight was unremarkable. The crew were not very friendly and didn't seem too bothered. The breakfast was ok but again the portion size was very small. After landing the I noticed that most of the cabin crew seemed absent with only one stewardess standing by the door. She did not bother to smile or say goodbye to anyone.\", \"Not Verified |  Oslo to Singapore via Dubai. I expected something more from an airline like Emirates. My friends who have flown with them, told me that has very good food in economy class, and the cabin crew are friendly. This is the opposite of what I have experienced. My first flight was from Oslo to Dubai on the 21st of March. We flew with a Boeing 777, reg A6-EWC. Before the flight, I was happy that I could use the ICE, an internationally awarded In-flight entertainment system. I was really disappointed when I touched the screen, because it was unusable. The screen heated up to 40-50 degrees, and the touch didn't work well. The food was OK, but again, I expected something more from an airline like Emirates. Two members of the cabin crew were rude to me. The flight from Dubai to Singapore with A388 was really good. Plenty of legroom under the seat in front of me. Back to Oslo, I have ordered Vegetarian meal to try something different (I had Asian vegetarian meal from OSL to SIN). I was angry when they gave me vegan food. Is it so hard to see the difference between Vegetarian and vegan food?. It was definitely the worst meal I have eaten on an airplane. I recommend to choose an another airline if you have a possibility to do so. I could fly cheaper with Finnair or  Qatar airways, but i choose Emirates only because they had the A380. \", \"✅ Trip Verified | I expected something more from Emirates. I've heard many pros about the airline from my friends who have flown with Emirates and an ex-Emirates stewardess. What I experienced, is the opposite of what they told me. They told me that the food is the best food you can eat in economy class. I have also read that the ICE intertainment system is the best IFE system in the world. I do not agree at all. My first flight was from Oslo to Dubai, flight number EK 160. We flew with a Boeing 777, reg A6-EWC. I was excited to try the ICE, so the first thing I did after I found my seat was to try the system. I was very disappointed when I realized, that the screen's temperature is over 40 degrees, and the touch works badly. The sound from the headphones was also very noisy, I think that DACs in the aircraft were maybe broken. I ordered Asian Vegetarian meal (AVML) on their website before the flight. Agian, I expected something more from a 4 star airline like Emirates. The food was just OK, nothing more than that. The next flight was from Dubai to Singapore with an A380, reg A6-EOT. The A380 was the best long haul plane I have flown with. There was a lot of legroom, and place next to the seat (I had a window seat) to leave small things like a pillow or your headsets. This time, the ICE worked well, and was more advanced than the old crap in the 777. Unfortunately, the cabin crew were rude and they didn't care about the passengers as much as the cabin crew in KLM or even AirAsia. I saw them only when twice when they gave food to the pax. On the way back to Oslo, I ordered Vegetarian meal. I was shocked, when they came with a Vegan meal. Is it so hard to see the difference? All other airlines offer vegeterian food or even lacto-ovo vegetarian etc. Also, I don't recommend the meal for those who are Vegans. It was really disgusting, and it was too warm. I will never recommend this airline to anybody. I could fly cheaper with airlines like Qatar Airways, LOT or Finnair, but I bought an Emirates ticket just for the A80.\", \"✅ Trip Verified |  Beirut to Colombo via Dubai. The flights were comfortable both ways and Emirates staff on board were helpful and friendly but on our way back from Colombo to Dubai we had a short layover and our first flight was delayed and then parked miles from the terminal, necessitating a long bus ride and meaning that we rushed to make our connection. When we arrived at our gate we enquired if our bags would make the connection and were told that they were in the process of being transferred. Our flights was then delayed by the gate for 30 minutes, leaving plenty of time for the bags to be loaded. Despite this, when we arrived in Beirut, we received a message to say our luggage wasn't on the plane and would arrive on the next flight, eight hours later. We were told by ground staff that it could not be delivered and we would have to return to the airport to collect it. It took us almost an hour to find the Emirates office and someone who would help us. He promised that if we returned that evening to collect the bags the office would be open and Emirates staff would help us and would reimburse our taxi costs. When we got back, the office was closed and locked and no one answered the phone. We tried going back three times over the course of an hour. No one was there. Eventually we got our bags but the process meant we lost almost four hours of our day and over $30 in additional taxi costs. Finally, as we were leaving the airport, Emirates staff called us to say that they were at baggage claim, though we had already been there to get our bags and seen no sign of them. When we explained that we had already left the airport, they told us to come back, despite the fact that we had already lost all the money on the extra taxis, not to mention our one free day back at home to prepare before going back to work. Terrible customer service from the Emirates staff in Beirut and no offer to reimburse our expenses or compensate for their mismanagement of the situation.\", '✅ Trip Verified |  London to Bangkok via Dubai. Such a terrible service. Not sure if they even know the word customer service. Couldn’t check in online due their website not letting me and one I finally managed to check in at the airport I’m put on Standby. After speaking to several airline team members from Checkin desk all the way through no solution was offered at all. Even worse I was pretty much told tough luck and try once you get there.', '✅ Trip Verified |  Newark to Athens. The flight left on time but was disorganized trying to get people on board. Took them a long time simply bringing drinks to the passengers. Also, if you sign up for their frequent flyer program, make sure you check that they give you your miles. They said it was my responsibility to make sure they give me my miles. Never had any kind of problems like this with the other airlines I have flown with. Very bad customer service.', \"✅ Trip Verified |  Dubai to Kuwait. I checked in for the 7:40 flight to Dubai, which was showing as on time and was confirmed by the check-in attendant. The minute I pass security, it shows delayed by 4 hours. They display different info on both sides of security. Flight on time on the check-in side so that you don't make a fuss in a public area, delayed on the other more secure area. And obviously, there was no one at the gate to offer any sort of explanation let alone make apologies. As a side affect, I missed my connecting flight in KWT and I had to pay another 100 dollars to re-book.\", '✅ Trip Verified |  Chicago to Dubai. First time flying Emirates business class and was excited to try it but very disappointed after my experience. No greeting by any of the staff even the check in staff. I got the middle seat and felt very claustrophobic. If you are also going as a couple or with a friend, it’s hard to carry a conversation with the person you are flying next to since the divider in between doesn’t even go down completely. On a long plane ride, this is very frustrating that you cannot even carry a proper conversation or see the person next to you. In terms of the service, the stewardess serving me was lazy and made me hand her all the trays and hand myself all the plates rather than setting it down directly on the table. I thought this is very unsafe since some dishes are very hot. She was also too lazy to make the bed for me so I had to do it myself. Not only that but one of the stewardesses left the tray on the seat in front of us which crashing down in front of my boyfriends feet during the middle of the flight. The head flight attendant walking by noticed it and didn’t even apologize and rather asked us abruptly what had happened like it was our fault his staff left the tray there. There are also no slippers or pajamas offered like other flights. The food is also not personalized and not very good. They didn’t even offer us dessert and when we asked for it, they assumed someone had already taken our order and didn’t give us the dessert. Most of all, the airport lounge in Dubai on the way to another city is really outdated, basic and unimpressive. It’s really long and big but composed of the same basic food drinks and no amenities other than a few shower rooms. The spa which was on the map was closed and half the loung was also closed when we were there for no reasons given. All the other major airlines business class I had taken including cathay, Singapore airlines, korean air and Etihad had much better lounges. I especially expected more since Emirates is Dubai’s flagship carrier but it looks like they cut costs severely. Would not take Emirates again although I already bought several more tickets for the rest of the leg of this trip that I cannot cancel. Some positives were chauffeur service, private entrance at gate for customs and security check in the Dubai airport, and the entertainment system on the plane which had a lot of movies. However the WiFi was very slow,  overall very disappointed.', '✅ Trip Verified |  The  ground staff, flight, in flight entertainment, meal and seat is awesome. Flight Attendants welcomed us and helped to get us to our seats. I was given a noise cancelling headphones and a clean blanket. Food was just amazing. I got some time to have a word with Flight crews and they happily enjoyed to talk with me. The washroom was clean and nicely maintained. ', '✅ Trip Verified | I and my husband are 71 years old, flying regularly twice a year for many years and this flight was our worst flying experience ever! This flight was 6 hours long and we purchased the tickets with Emirates based on their advertising and did not mind paying almost double price than all the other companies charge. We wanted on this pretty long flight more comfort, wider seats, more legroom, good food and overall better experience as Emirates advertise. The outbound flight was with Emirates partner company FLy Dubai, Boeing 737Max not Airbus 380 as they advertise. Nothing of the advertisement was true. The airplane had regular narrow seats and little legroom and there was no complimentary drinks and food at all. This is almost criminal! Yes, you could buy drinks and food but why you pay almost double price to fly with this company? Their advertisement is fraudulent. On this journey we also flew from Abu Dhabi to Muscat with Oman Air. The flight was only 60 min. long and complimentary drinks and luncheon was served. Than we flew from Muscat back to Dubai with Swiss Air. On this only 50 min. long flight complimentary water and snack was served. The inbound flight with Emirates was not bad, Airbus 380, little wider seats and little more legroom, complimentary drinks and food. Nothing really great but OK. I complained to Emirates about our outbound flight without any successful result. They wrote me that their partner company should have same standards and that they are looking forward to see me on board again. I felt offended! I would never fly with Emirates again.', '✅ Trip Verified | Business class feels like a train, large cabin no individual attention. Twice during the flight 5 cabin crew were sitting in the galley in groups chatting and drinking. Oblivious to the passengers, I have never seen this in all my years of flying. In front of the loos and the bar area. Really poor show. The cabin crew seemed to be more interested in socialising with each other with a few noticeable exceptions, the Filipinos. Meal service efficient as opposed to caring, was told the WiFi wasn’t working but could see passengers using it, think the crew member couldn’t be bothered to help. Positives - excellent limousine pick up, lounges and connections. Entertainment first class. Don’t get complacent or arrogant Emirates as customers aren’t stupid.', \"✅ Trip Verified |  Colombo to London via Dubai. On each of the 4 legs of my journey I would have received better service by Easyjet. At least there the incentive is for the cabin crew to provide drinks and food as they earn income. My last flight from Dubai to London Heathrow, it was 3 hours and 10 minutes before I was offered a drink! The food was lukewarm on both legs, and had to be swapped over. Emirates seems to have cut costs terribly in recent years, it's economy service is miles behind even budget carriers now. It does not deserve its 4 stars, I would not choose to travel with them in the future. Inflight entertainment was good, but the cabin and seat were tired.\", '✅ Trip Verified |  Kuala Lumpur to London via Dubai. Flight entertainment out of this world and the food was amazing. I love the look in the aircraft as well. Cabin service was good but ground service was terrible especially in Gatwick Airport. Staff were unfriendly and not helpful at all. Another thing is that the inconvenient online booking system of Emirates. we are a family of 4, 1 of us must be booked separately because of extra baggage weight which lead to we cannot check in together. Furthermore, we successfully checked in online for the first 3 of us but another family member with the separated booking cannot check in online due to overbooked flight. Therefore, we went to the counter to check in and they gave us 4 new seats, including the other 3 of us who checked in online earlier with already selected seats. Also we got new seats without being informed. Also almost all the seats are taken during 47 hours before departure for our return flights, I wonder why. In overall, I would still recommend flying with Emirates because of the inflight entertainment system, and in flight comfortably not to mention the A380.', '✅ Trip Verified |  London to Dubai. From 1st March 19, Emirates have decided that when purchasing a business or indeed first class ticket using reward miles, that traveler will be treated very differently to a \"paid\" ticket holder, in that they will not be provided with chauffeur drive. Quite appalling that Emirates feel the need to save money by penalizing its most loyal customers! To add to the insult, Emirates will not even honor the service on tickets purchased before the rule change.', '✅ Trip Verified |  We have flown Emirates many times from Washington to Bangkok via Dubai. No problems. Everything very nice. This last flight (February 2019) we left 90 minutes late from Bangkok (technical problems) and missed our connection. We were assured agents would be there to discuss options at Dubai. We were met at the airport and handed (no discussion) a ticket for the next flight (next day 24 hours away) and a hotel voucher. No Emirates agents were at the hotel nor were there any agents at the airport that could answer any question about upgrading or compensation. No one knew anything about anything. Unbelievable. Will never fly Emirates again. There is no customer service for this airline. If you call the 1800 number, they tell you to go online. You go online and it will take a month to hear back. A US carrier could not stay in business with this kind of policy. If you were flying to the Euro zone there are policies for compensating people. Nothing if you fly from the US even on business class. If you are concerned about potential problems with this airline do realize you will never find an agent to help you with a problem.', '✅ Trip Verified |  My wife was travelling from Birmingham to Delhi return via Dubai. While she was on her way back to the UK she experienced the worst service from Dubai airport ground staff. My wife was carrying our daughter (1 year) on her lap and strolling a cabin back with one hand, a backpack on her back and holding a personal bag in her second hand. She was coming from India and it was late night flight from India. She saw a cart at the airport with 2-3 ground staff members sitting in it. She asked them to help her but they said no. How could you do that to a mother of a toddler? The 2nd incident happened to me when I was flying along-with my wife and daughter. The flight was late so they ended up rushing all the passengers to the plane in no time. Then to my surprise although I was standing and carrying my daughter on the lap; the plane started taxiing. Are you serious, what about the safety norms?  I feel most of the times we passengers end up flying with a particular group of airlines because they are members of a club. So we think we earn miles but at what cost. I think it is trap and don’t fly with those airlines that don’t treat you well. End of the day you are paying them, it is not free.', '✅ Trip Verified |  Dubai to London. After being a loyal Emirates customer for over a decade, its very concerning to see the airline taking steps which are substandard to the expectations of its customers. The concerns are longline of areas from the cabin crew to the food and overall standards. The cabin crew were extremely attentive and customer orientated to the needs of the passengers rather now it seems a case of a attention deficit order in play. The food that is now served was on this particular case of poor quality and not foregoing that the option was let just say not an option (chicken only or nothing). The sweet dish again, was disappointing and finally the clotted cream, resembled more to a true likeness of garlic sauce in a small tub than what was previous served. These little cutbacks and poor service is going to have a massive impact in the way customers feel towards Emirates.', \"✅ Trip Verified |  Riyadh to Newcastle via Dubai. Generally good service, until lunch. Was served an Economy meal on a Business Class plate. I could check the Economy menu, so I knew what it was, and it was pretty inedible. Staff on board were initially adamant that I was having a Business Class meal, but later relented. Emirates seemed unwilling to acknowledge the issue, offered me 10000 points (hardly worth it) and noted it was possible to 'source a meal from a different section of the aircraft', without an apology for the mistake. So watch out - Emirates seem to think this practice is acceptable.\", '✅ Trip Verified | Dubai to Düsseldorf. Again a great flight with Emirates. We had a great experience on that flight. The service was great, after departure we got snacks and drinks. During the flight we received multiple snacks. The lunch however was dissapointing. The leg room is outstanding. The wifi on board also worked fine.', 'Not Verified |  London to Dubai. After my daughter and I being upgraded to business as a surprise we entered the cabin very excited. The staff were amazing, my husband and I had been allocated seats apart and although not a major problem for us our stewardess went out of her way to re-seat us once everyone had boarded. Food was superb as was choice of drinks. The seats are individual pods and mattresses offered out as a night flight. We were too excited to sleep but the staff were so friendly and we enjoyed spending time in the bar area and talking to the crew. Obviously travelling business class is going to be an amazing experience but the staff just made it complete. I would just like to say I took the same route in December and was perfectly happy with the whole flight. Leg room good as was food and although the drinks trolley runs are no longer very regular the staff are more than happy to get you something if you ask. Well done Emirates we will definitely be using you again.', \"✅ Trip Verified |  I was advised by one of the agents that you can refund a flight booked on FLEX rate but when we tried to request for it they refuse and citing that I shouldn't believe everything the agents say and since I was the one who made the booking it was my fault. Instead they want us to reschedule it and spend $600+ for the fee. I feel there is miscalculations on both sides but they should have been considerate. The worst is when you call their customer support hotline, initially my call was routed to India, when I did follow up on the next day Dubai based support is refusing to take ownership of the case and they blame their counterparts in India. As a Skyward member I will no longer flying with this airline. \", '✅ Trip Verified | We had an exceptional flight with Emirates from Düsseldorf to Dubai. The service on board was on point, the staff were friendly and helpful. The A380 was modern and it offered a lot of legroom. The inflight entertainment was amazing and offered a lot of new movies. Only the wifi on board was a negative on this flight.', '✅ Trip Verified |  Sydney to Kathmandu via Dubai. Never fly in their partnership flights We love Emirates. We fly with them even if it is few hundred dollars expensive or a couple of hours longer journey. Appreciate lovely crews, wifi, comfortable seats and food. However, I found that their connection and transit service is worst (cannot compare with any other airport standard) at Dubai and they don’t respect passengers flying with them in partnership arrangements.  Emirates took off 25 min late from SYD. It took additional 20 min to reach to gate at Dubai. Almost 45 min late. Hardly 1 Hr and a bit left for my next flight to KTM. As there was no one waiting at the plane gate, I rushed to Emirates connection centre at Dubai. The response I got there was very upsetting. They were not helping me because my other flight was with flyDubai (which I did not notice earlier as I booked this thru Emirates). Gate number of my flight was not displayed in the Boards. No one helped me, they asked me to wait the gate number to be displayed, which never did. I missed the flight, because the Emirates was late and their information system was not good. They did not bother to help us because we were only 3 passengers in this connection. The following flyDubai flight to KTM was over-booked, so we had to wait next Oman Air flight via Mascot. I reached KTM approx. 18 hrs late to find another surprise. My little suitcase was broken. I made a complain at Sydney and claimed for missing goods. Emirates responded to me in 7 days as - “it is the airline industry policy and agreement between airlines. Oman Air has a direct responsibility to resolve your claim.. suggest that you contact Oman Air.” I was expecting something better than this from Emirates Airlines. My advice, never fly in their partnership flights, avoid Dubai airport connection if possible.', \"✅ Trip Verified |  Bangkok to Johannesburg via Dubai. Flight departed on time. Service only started 1 hour 30 minutes after take off. Crew not friendly during boarding but they were friendly once service started. As usual Emirates inflight entertainment excellent with latest movies available. I have been travelling for many years and don't expect much from airline food, it is usually average, but the food offered on this flight gets a 10/10. Absolutely fabulous from starter to dessert. Overall a very good flight. Crew under a lot of pressure from some demanding passengers but were very pleasant and professional.\", \"✅ Trip Verified |  Washington to Jeddah via Dubai. I am a fan of Emirates and have flown quite a lot of miles on it. I  feel like Emirate's quality of service is declining very fast. From check in at the airport in DC (IAD) the staff were rude, insisted that our luggage be exactly 20lbs (where is the limit is 23lb/bag). The staff in Kabul insisted that I could not take a carry on with me because it was a kilo over the limit whereas I saw others carrying much larger bags than my little carry on bag. They then checked my bag to Dubai (instead of Geneva) and I had to leave the airport, go through the immigration, collect my bag, take another shuttle and come back to the terminal. What a nightmare. Trying to avoid this airline at all costs now.\", \"✅ Trip Verified |  Manila to Cape Town via Dubai. Emirates has been incredibly disappointing on so many fronts. The Special meal I ordered didn't show up. As opposed to being super apologetic the airline crew was just rather indifferent. Also the regular meals provided in business class were terrible. Business class felt like economy class service. Staff came out when there was meal service and otherwise just huddled in the cabin and chatted outside of that. Really got the distinct impression that I was bothering them every time I had to go to the cabin to get water. They used to be better. Not sure what happened to this airline. Airport Transfer:  security check points to transfer from one gate to another along with an arduous bus ride. Amenities: Nice Kit but no slippers in the plane. Seats: This was the worst part. The seats are not truly flat bed and just not comfy. It really felt like I was in a 1 star airline.  No free Internet in business class and after paying $15 I got very bad quality internet. No power in the seat. While there was a socket, it was not working.The lounge at Dubai airport is really good\", '✅ Trip Verified |  Budapest to Dubai. A regular traveler to Emirates, I was very disappointed, once again, by this company\\'s sharply lower performance.  The welcome on the plane is expeditious, the smiles rare. We had two hostesses, one obviously beginner, shy to the point of not being able to look in the eyes while talking to us, and faster than lightning: the tablecloths are literally thrown on the shelves, the drinks served without presentation, she ran most of the time like most hostesses. The dishes had little flavor. Only positive points: the quality of the wines, including Champagne and the plate of cheese. The device \"wifi\" control of audiovisual instruments did not work, despite the repair efforts of a hostess much more experienced, pleasant and smiling, that we saw that during the claim. The limousine service promised in the price of the ticket is non-existent in Phuket, for reasons never explained, and the car provided to Dubai was the worst, dented on its flank must, while we have well reminded the hostess of the counter. we were theoretically entitled to two cars, having two separate tickets. It will be I hope our last experience with Emirates, happily competing on the same lines.  FR:  Voyageur habitué de la compagnie EMIRATES, j’ai été très déçu, une fois de plus, par les prestations en nette baisse, de cette compagnie. Dès l’embarquement – assuré à Phuket par des employés de la THAI AIRWAYS – on est traité comme des animaux, pas de sourire en vue. L’accueil dans l’avion est expéditif, les sourires rares. Nous avons eu deux hôtesses, l’une visiblement débutante, timide au point de ne pouvoir nous regarder dans les yeux en nous parlant, et plus rapide que l’éclair\\xa0: les nappes sont littéralement jetées sur les tablettes, les boissons servies sans présentation, elle courait la plupart du temps comme la plupart des hôtesses. Les mets n’avaient que peu de saveur. Seuls points positifs\\xa0: la qualité des vins, Champagne compris et l’assiette de fromage. Le dispositif «\\xa0 wifi\\xa0» de commande des instruments audiovisuels ne fonctionnait pas, malgré les efforts de réparation d’un hôtesse nettement plus expérimentée, agréable et souriante, que l’on a vu que lors de la réclamation. Le service de limousine promis dans le prix du billet est inexistant à Phuket, pour des raisons jamais expliquée, et la voiture fournie à Dubaï était la pire, cabossée sur son flanc doit, alors que nous avons bien rappelé à l’hôtesse du comptoir d’accueil que nous avions théoriquement droit à deux voitures, ayant deux billets séparés. Ce sera j’espère notre dernière expérience avec EMIRATES, heureusement concurrencée sur les mêmes lignes.', '✅ Trip Verified |  I booked return flight from Karachi to Istanbul by Emirates. My flights were operated by Emirates but on my return at Dubai I was informed my flight is changed and I have given another flight operated by flydubai after 4 hours (my Emirates connection was after 1 hour 15 mins). I tried to contact their customer service staff but no one was answering why I am getting flydubai when I paid for Emirates?. In flydubai I had worst experience of my life. They were treating me like I got this flight in free. I contacted Emirates customer service after reaching my destination but again as expected they were not accepting anything. Even my miles were deducted because I travelled on flydubai. Worst experience and nightmare. I even checked in for my Emirates flights and got boarding passes at Istanbul Airport but they were not listening at all.', '✅ Trip Verified |  This was the worse airline experience I’ve had. London to Dammam via Dubai, I had to stop over in Dubai for a couple of days for a family matter (I’m a GCC citizen so I don’t need a visa to Dubai). On the Emirates disk in LHR, I requested to have my luggage checked into DXB but I was told that I can’t do this because my ticket doesn’t allow a stop over unless I pay an upgrade of 2000 US Dollars or I can request my luggage once I arrived to DXB and I will be able to take them so this is what I did. When I arrived to DXB, I requested my luggage to be off the airplane and was told to wait for 2 hours to be able to collect my luggage. But when I came back to them after 2 hours they told me that the luggage are taken out of the aircraft but I can not take them unless I pay the 2000 Dollars, I tried to explain to them that I had to end my trip in Dubai and I need my stuff and my medicines from the bags but they refused.  I left the luggage with them . When I returned back home (DMM) I claimed my luggage and had them delivered after 2 days to DMM. Decided not to use Emirates again. ', '✅ Trip Verified |  Zurich to Hong Kong via Dubai. Won’t fly with it again! I called the office to upgrade my connecting flight to business class, and left the other one economy. After it was done, I did my check-in online and found that the seats that I have chosen for the economy one has been changed. What I chose before was in row 57 and I will be sitting with my husband (we bought our tickets together). So I called back to the office and asked what happened and he admitted that they made a mistake but unfortunately it cannot be changed. So he changed our seats at the very back row which is 87. I asked him to change me back to the seats that I have chosen before but he asked me to ask for help in the airport. But then when I arrived the check-in counter in the airport, the staff refused to help me and asked me to ask the staff at the boarding counter. But when I arrived the boarding counter, no one was willing to help me. I am very disappointed. Won’t travel with this airline again!', \"✅ Trip Verified |  London to Adelaide via Dubai. First and last time I'll use this airline. Flight was cancelled and then further delayed, resulting in losing 2 days of our holiday to Australia. Communication between Emirates staff in terms of emergency stop over hotels in Dubai was non existent. Chaos at Dubai airport at 5am where staff had no idea the entire aircraft were from a cancelled flight and needing hotels. Inflight service was so poor. Rude and disinterested cabin crew who didn't offer anything to drink or eat until 3 hours into a 6 hour night flight. I had to ask for a glass of water after 2.5 hours. No drinks offered with the meal and a bar service following an hour afterwards, by which time it's approx 4am. Very disappointed.\", '✅ Trip Verified |  Hyderabad to Munich via Dubai. I had a very pleasant experience via Emirates on my flight from HYD to DXB. An employee at Hyderabad airport who was very kind, calm and composed even during peak hour of boarding for an over booked flight. The inflight experience was really amazing. I would definitely fly with Emirates again.\\n', '✅ Trip Verified |  Kathmandu to Dallas via Dubai. Spent 2 days transit in Dubai and have to pay twice for little overweight baggage costing more than $500. Total ripoff. They charged me for overweight in Kathmandu and was told by their representatives that I should show the receipt when i do check in in Dubai after my short stay, and I do not have to pay again in Dubai as its been already charged at the beginning. But no, they charged me additional cost in Dubai and was not helpful at all. No class from so called big airlines.', '✅ Trip Verified |  Vienna to Cape Town via Dubai. This review is about my outbound flight to Cape Town (December 19th 2018). My children and I were denied boarding our flight to South Africa due to not having their birth certificates upon check-in, even though the South African government updated the policy December 1st 2018 (which no longer requires this document as mandatory). Not only did Emirate not indicate at any time during the booking process about this law they refused to reason when I showed them South African\\'s government recent update. Due to the busy Christmas season, we were unable to fly to South African until 3 days later, missed the cruise we were to join and had to embark the ship in Namibia 6 days after the original travel date. We were meant to meet my husband on board the ship and missed out on Christmas because of this mistake. The kids were devastated. We were over EUR€4,500 out of pocket since I had to book hotels, new flights and transfers, all because they hadn\\'t updated their policies. Their customer service department is a joke as the only way I could submit a complaint was through their website online form. Their response (claiming zero responsibility and therefore denying me any compensation) was from a \"no-reply\" email address. Even after I spoke with a customer service rep over the phone I was instructed to submit a new complaint since I couldn\\'t follow up to their response email. I submitted a new complaint, correcting their false claims (that I didn\\'t have a travel letter from my husband, which I did have) and I haven\\'t heard back. My husband and I have been working in the travel & hospitality industry for 25+ years and I am extremely knowledgable in luxury customer service; this is what I do for a living. This by far is the worst I have ever experienced. I will never fly Emirates again. Oh and 4/5 checked in luggage was left behind on our return flight. We received them 2 days later.', '✅ Trip Verified |  Perth to Newcastle via Dubai. I booked a return flight from Perth to Uk, due to unforeseen circumstances, I had to miss my first flight. However, later when I finally arrived to UK then I realised they had already cancelled my return flight. Leaving me having to buy my tickets again. I rang Emirates and they said that’s how the airline policy works and nothing they can do about it. And suggest I rebook soon if I want the same flight back. Or contact my flight agency to see what they can do.', '✅ Trip Verified |  Dubai to Lisbon. It was great. The ICE entertainment system was great and also the cabin crew. I made a photo with the pilot. I want to fly Emirates again. I hope you choose Emirates.', 'London to Dhaka via Dubai. We were travelling with my 3 year old Heathrow to Dubai on EK002 then EK582. We always do online checkin and tried several times to choice the seats we wanted. but the system didnot let us. The 2nd leg of journey is tiring for any child so wanted to make sure the seats are in quite place and 3 in raw not in middle (4 seats) but unfortunately called the helpline; they could not do it. Went to Airport early so they can help but the lady in desk could not do it, insisting us to request in Dubai. We had only 1 hour halt that was impossible. The plane delayed so we had 45min to catch the next one. So our son could not sleep well. Also flight attendants did not give kid gift as my son was patiently waiting and seeing others getting it. The issue that mostly annoyed us was the kid meal was same as our meal (beef). How could kid meal be beef understanding that kid refer to 2 to 11 years. We been travelling with Emirates for 9/10 years now and this was worse as expectations from Emirates is higher than other airlines.We would not recommend it to others. If passengers are not allowed to choose seats then whats the point of online checkin. Emirates has lost its great service reputation for us. We are not relying on them anymore.', '✅ Trip Verified |  Dubai to London Heathrow. We were coming back from Dhaka via Dubai EK003 20th Feb 2019. My 3 year old son felt sick and been vomiting several times. My wife and I were standing front of the aircraft to get some air, one of the flight attendants Maria came forward to ask if we need anything, She bought cleaning tissues and bag to hold for my son. She check up on us half an hour later. Another attendant lady offered 3 seats back of the aircraft as its spacious and the toilet was nearby. The FA check back on us again and she wanted to call doctor as my son was not responding and was sluggish. She took the name of the anti vomit medicine we gave him. Later she arrange to call Doctor on board. Fortunately found this GP from England and he checked my son and assured that he will be fine. On his advice we sat and let him sleep. We would like to give big thank you to the flight attendant for her genuine concern, care and great service. Even though on our flight service London to Dubai and Dhaka was poor, I would like to say this individual did amazing job. Thanks to the Doctor too.', '✅ Trip Verified | London Heathrow to Dubai. Was very excited to be flying Emirates business class after a wonderful set of flights to Australia last year. However the service has gone downhill and fast. Firstly the chauffeur pick up was terrible - a surly and moody driver who arrived late wasn’t a great start. The lounge at T3 heathrow was fine but then we arrived to find a plane which whilst cannot be that old given its an A380, was seemingly falling apart. People’s seats didn’t work properly, my TV was broken, and the bar area looked terrible. The cabin crew seemed like they’d just been assembled at the last moment - the service levels were atrocious and disinterested. The food, particularly the child options, were like warm and very average. All in a real dissapointment from my once favourite airline.', '✅ Trip Verified | Dubai to Bahrain. So we all know that economy gets you from A to B, safely and we are not expecting much especially with a short hop like this, only a one hour flight. Paid for a extra room seat at Door 3, 24 D being an aisle on the B777. Flight was very full with many children and to their credit two of the crew were very engaging with them and their parents. What I do not get is why Emirates insist on placing ten across high density on all their B777 aircraft - an industry norm these days but it begs belief. As the crew went up and down the aisle I was knocked into over 12 times in less than an hour and I am 78 Kg, some at least had the courtesy to apologize, most did not bother. I get its cattle class but I for one would never set foot on these aircraft in this high density. I find EK crew to be stoic, tired looking, the crew member at my door crew seat looked as if he dying for his bed, head in his hands, yawned non stop and a lot of the crew looked plain disinterested. This is obviously down to crew planning being over stretched. Overall ok, flight deck did a great job with announcements and the flight itself and landing was excellent - true skill. Would not fly long haul based on this, you see a totally different service and staff attitude between J and Y class. Engaged to must I do the basics.', '✅ Trip Verified |  I travelled from Manchester to Faisalabad vi. Dubai, and from Manchester to Dubai the service was good. But from Dubai to Faisalabad, Emirates use the service provided by Flydubai, whose service is of a very poor quality. When providing a \\'meal\\' it was just a small snack and when I asked about a hot drink such as a cup of tea, I was told to pay 20 dirhams (roughly £4.21 each), and soft drinks were roughly 5 dirhams (£1.05). I had 3 family members travelling with me (including my elderly parents), we paid over £2000 for tickets alone, and on top of that we were asked for outrageous prices for a service which should be covered by the ticket prices anyway. I contacted Emirates to complain and the email I received in reply was written in a way as though I were at fault, stating things such as \"this is the service we will contnue to provide\" and that I should contact my agent as they should have told me about these extra charges. However, on their booking it says \\'meal provided\\' on both Emirates service and flydubai\\'s service which would suggest that a reasonable meal is given, when in fact it was simply a small snack. A few days later a friend of mine returned from Faisalabad and Emirates were using the same service and the flight was delayed causing the airline to provide a hotel room. The shocking thing was he was told he would have to share a hotel room with complete strangers. No company has a right to do this as it is an invasion of privacy and is extremely invasive. It is clear that Emirates no longer have the same standard of service and I would not use this service again myself, nor recommend it to anyone else in the future.', \"✅ Trip Verified |  Munich to Auckland via Dubai. Plane and seating is comfortable. Service could really be improved. Other than a drink with the meal there were no further offers for cups of tea or even water for the rest of the flight. Meal service including clearing trays took extremely long, so not being able to get up to use the toilet for 2 hours isn't great. Staff in general do not seem to be interested. Is this just in economy? In comparison, flew long haul with Singapore Airlines, also economy, last year. Quite a difference. Flight Crew seem genuinely interested, very friendly and frequently came through to offer drinks throughout the flight. It doesn't take much to get excellent marks for cabin staff service.\", '✅ Trip Verified |  Dubai to Cairo. Cabin crew members were unprofessional most of them had a poker face with a fake smile while we are entering the aircraft,  like they are not really happy serving in economy. One gave me such a bad feeling with her attitude she hit my shoulder asking me to get my seat straight so the guy behind me can have his meal.', \"✅ Trip Verified |  Bali to Dubai. First time BC with Emirates, not too impressed. ICE system had to be reset twice,taking over 20 minutes, not good. Secondly one member of staff could not get the TV screen out of the middle partition, we were in seat 8J and K bulkhead seats. After the reboot the remotes would not work, either of them so just gave up and watched a movie. Service started very quickly, well if you wait until they go to the rear of BC and then the front, doing us in the middle last, is this the norm? Service was rushed, offered one drink before dinner then service slapdash. They just seemed to want service done and dusted then that was it, go to sleep. Male member in the galley after dinner couldn't have made anymore noise if he had a hammer smashing plates. If this is Business Class then you can keep it. Staff not interested and I thought, very abrupt for a so called top airline. lights out and back to Glasgow were great, shame we didn't have the same crew on the Bali to Dubai flight .\", \"✅ Trip Verified |  Dubai to London. I have been flying Emirates for 34 years since they started. Recently did a return trip to London for 3 days in business. They sent an S class Mercedes to pick me at home in Dubai, I hung out in the C terminal lounge where I smoked a cigar, both flights there and back in A380s and on the Gatwick return it was 2 months old and very pleasant. Crew were attentive, friendly, food and drinks excellent, ICE was outstanding. In fact along with another S class Mercedes in London this is the only way to fly to London. I consistently rank them as one of the world's best airlines.\", '✅ Trip Verified |  Dubai to Kuwait in economy class. At the check-in counter, we asked the lady if she could put a priority bag on our luggage which she did. However, when I reached Kuwait, my luggage came much later than it should have. I did not expect Emirates airlines to have such a bad service', '✅ Trip Verified |  Male to Colombo. The customer service for such a high profile airline is beyond unacceptable. The cabin crew are not friendly. and treated us with no respect which i have never experienced in any other airline. I expected great service in the business class. I have recently flown qatar airways business class and the service was so amazing, Emirates was such a disappointment.', \"✅ Trip Verified |  Dubai to Delhi . The journey started from our hotel to the airport. Emirates provides complimentary chauffeur drive in Dubai. The chauffeur service, priority check-in and the lounge were exceptional. The ground service helped us navigate our way in the airport. Boarding was smooth, the plane was old however, with clean interiors. The inflight service was not up to the mark. The crew wasn't courteous and did not meet the expectations of business class. The big let down was that the crew did not offer or serve any desserts and even refused to provide a second round of drinks.\", '✅ Trip Verified |  Hyderabad to Seattle via Dubai. Even though I had booked the ticket for my spouse and 11 month old kid with bassinet, Emirates did not honor the ticket and rejected my spouse request for providing the bassinet and forced her to sit with my son on her lap. She could neither eat properly the whole journey nor was she able to take rest even for a bit, on top of that the rudeness of staff worsened her experience of the trip. She never want to fly Emirates again.', '✅ Trip Verified | Munich to Riyadh via Dubai. Both aircraft were in excellent condition, both from a maintenance and cleanliness point of view. The crew is friendly and offers a punctual and reliable service. The seats are exceptionally comfortable and guarantee very high privacy: there is plenty of space for the legs and for hand luggage and the division between the seats allows extra comfort. The Wi-Fi is free for every Skywards member. Since the registration to the program is also free, the service is very good. It is not the fastest one, but definitely with the best value for money. There is plenty of choice regarding entertainment. The ground service is exceptional: I forgot one bag on the plane and during the layover between the other connection the staff was able to retrieve my baggage and bring it to the lounge in time for the next flight. Best service ever!\\n', '✅ Trip Verified |  Amsterdam to Cape Town via Dubai. As a very frequent emirates passenger in the past, we have nor used the economy Emirates product for over 4 years. Check in was laborious as a they were checking everyone’s visas which is understandable. Boarding was good. No issues both in AMS or DXB. Onboard service is now a huge let down. On both sectors after take off it took 2 hours before the food service was started. And at no point was a bar service offered. Not just alcohol beverages but water or soft drinks. The food was below average and it was only after the food was eaten the bar service came out. I can on Y assume that Emirates is trying to cut back and save money. But what they don’t realise is the majority of there traffic is in Economy and if you keep cutting the service then people will stop booking. Especially when the completion like Qatar or Etihad offer better service on the same routes. We will not be booking with Emirates economy in the near future as it is not a pleasurable experience anymore. Also I felt the ICE was of a reduced choice as compared to a few years ago. Sorry Emirates but you are living on previous accolades.', '✅ Trip Verified |  Madrid to Sydney via Dubai. This is a review that is a follow up on my outbound. The reviews are almost identical. Great hard product but the soft product on Emirates is just simply lacking and its down to the crews who are at best very lackadaisical. You have a few who are superb but on the whole it reflects a training problem. Much noise and chat going on which is very annoying during the night routes. One thing I have never seen and clearly much revelry goes on in the Emirates dorms. One female FA groped the boob of another in a playful manner. Now for red hot blooded males this may be fine but sorry this is a major flag carrier. Whilst on the Emirates gripe. The IFE is fine but to be honest was struggling too find some films that really appealed. Emirates caters for a huge language base. Final gripe. The seat quality certainly in economy is dire. The cushioning is hard or maybe has been so well used that it is worn. Come on Emirates. A one time leader has slipped into the pack with a terrible soft product.', '✅ Trip Verified |  Sydney to Madrid via Dubai. Being a Qantas FF I occasionally travel on Emirates but with a Qantas code on it. Now same aircraft (A380) but the whole experience is totally different. Have been on Emirates a few times a year mostly when routing to a Europe port other than London. Sydney being the Qantas home base is these days very efficient to get through. Self check in (even though i can use the First counter) and through security and to the Qantas lounge in probably 15 minutes. The Emirates version is very different and rightly so as it is not home base. The economy line up was massive. Fortunately could use the premium line and was through swiftly. Time for Emirates to start using self check in. Used the superb Qantas First Lounge and then moved over to the Emirates lounge which was a very pleasant place. From there the whole experience was pretty dismal. Had a whole row to myself in the main cabin which was great. Same sights and sounds as for the Qantas A380 but its the customer service that lets Emirates down. They just simply have recruited too many young kids who just dont have the professionalism or charm of the slightly older crews on Qantas main line. Its really a training problem. Having crew that speak 30 languages on board is fine but does not help if their manner is to put it mildly rather brusque. Charm school is sorely missing. Mid flight snacks are poor to non existent. Food is a little underwhelming. Delayed start from Sydney due to bad weather and a tight connection meant a run through Dubai T3 to get to the Madrid flight. Same plane, different crew but same lack of charm and professionalism. And Emirates...one other thing. Please do not have your crews take away blankets, act as general cleaners and so on around 30 minutes before landing. It jut is not a great look. Overall the airline needs to employ proper training methods or better still get some older crew who can teach the young ones how to. The fact is that Emirates gets away with sloppy standards since they have a great network, hard product in the A380, great airport in Dubai. For me it is the easiest way to get to Madrid from Sydney so have to get used to a substandard level of service which many people have commented on. I would recommend Emirates only as it has the route network and schedules. Bit short on other alternatives at that price point.', '✅ Trip Verified |  Brussels to Dubai. The worst customer service I have experienced. After booking a round trip flight, I had to change the time of the outbound flight for latter on, the same day, due to work commitments. Their customer services explained to me that I will only need to book a one way flight from Europe to Dubai as my return flight, which was already booked, will remain valid. However, one day before the date of my return flight back to Europe, I found out that my ticket had been cancelled due to “no show”, despite being told previously that I will be able to use my return flight. In addition to that, the complaint has been handled extremely poorly, with a complete lack of consideration, by Emirates customer services who repeatedly refused to transfer me to a manager for an official complaint. ', '✅ Trip Verified |  I have been flying Emirates since 2008 and the quality of service has gone done tremendously. My trip from Kuwait to Houston via Dubai is a long flight. I asked for help due to my seat being broken and no help. The staff on this flight were very rude. Usually if a passenger is standing in the back area and looking at the flight attendant, they will ask may I help you, not this crew. The conversation continued until they were finished were their conversation. It was like that I was bothering them or something.  I sent email to custom services and it was like it was my fault.', '✅ Trip Verified | Nairobi to Houston via Dubai. I flew economy for the first time in a while after previously flying business and was so disappointed with the level of customer service. I felt almost inferior. I guess you get what you pay for. From lack of healthy snacks between meals, to not being able to get a bottle of water (because they are for service - even though I ended up drinking the same amount of water every time I got up to look for some). I was so disappointed and am currently dreading my return trip. I might change airlines after this. I would hope that how I get treated in business should translate across the board.', '✅ Trip Verified |  Bangkok to Manchester via Dubai. In last years Emirates was my favorite carrier. But now I think their customer service quality has fallen down from top to bottom. Today I finished my trip and all 4 flights I noticed same problems: bad customer service in economy class. Flight attendants not present during almost whole flight. 6-8 hours flight only 2 times passengers got something to drink. Yesterday BKK-DXB onboard very rude flight staff. DXB-MAN attendants were lazy and not very nice. Talking a lot, flirting with themselves and definitely not interested about passengers. Complimentary limited WiFi never connecting. Food is poor, portions are small and tasteless. Return flight to my city someone took from carousel my backpack. Guy from Emirates airport staff whom I asked about help called that passenger who swapped backpacks. Then he told me to wait for that passenger, he will come soon and we can swap the backpacks again. He left me with not my backpack at public area and told me: keep eye on this. I lost two hours waiting and finally airport security guys came to me and asked many questions about what I am doing here. I told them what happened. They did not believe me and checked everything around me with detector and told me this situation is definitely against airport safety rules. Big shame for Emirates. I will not use anymore Emirates because at the moment customer service is unacceptable.', '✅ Trip Verified | \\n Brisbane to Dubai. We were checked in by Liam at the Emirates counter at Brisbane Airport on 13 January 2019 Emirates flight EK 435 to Dubai. He was welcoming, polite and highly efficient in checking and completing the check-in process. I have two passports and he quickly checked and advised how they should be used to meet re-entry visa requirements. Well done to a professional with superior customer care skills.', '✅ Trip Verified |  New York to Karachi via Dubai. I was really disappointed, traveling with 2 kids, cabin crew was very rude was not offered drinks on an instance, every time meal was short no food for baby. Had to face a passenger who was super annoyed by kids and air hostess was favoring him, he ruined my 12 hrs flight in addition to stress caused by children alone. Apart from that my luggage got delayed and finally when it was delivered precious items were missing on making complain no or bother to reply back and take in consideration.', '✅ Trip Verified |  While the flight experience was amazing, the airport staff at the check in counter of Emirates around counter 412/413, was very rude. I was waiting in line where there was no one standing in front of me, and she was sitting there at her counter not serving anyone at that moment, I walked up to her as the counter was empty, she rolled her eyes and said “excuse me, I’m not working, my counter is closed.” Although clearly, there was no sign indicating that her counter was close, she told me to use some other counter then turned away and continue to chat with her colleague in their own language (I think sounded like Russian). She was clearly being rude by rolling her eyes, I don’t think there was any good reasons for a staff to be rude, or getting annoyed when there were absolutely no other customers to serve and they were clearly not busy.', '✅ Trip Verified |  Cairo to Sydney via Dubai. Emirates dumped us with my children in the gate hall for 9 hours due to issues with plane and after 5 hours of conversations with their staff they started serving water and cheese sandwiches. On my next flight they have re-selected the seating where I cannot set beside my 8 years son for a 14 hours flight - after a long discussion they offered me a seat with my son in the front and my wife with my other son but in the back. I paid above the market price ticket to select the seats for my family where we can all sit together in this 14 hours trip. I issued a complaint and they said sorry that’s really bad.', '✅ Trip Verified |  Bangkok to Sydney. Booked and paid for full fare business class seat on EK418. Checked in on line and printed a boarding pass. On arrival at Bangkok airport was told that they were overbooked and I would be downgraded to economy. After some time was offered a return business class ticket, Sydney to Bangkok return to be used by October 2019. Not happy but accepted the deal as I needed to be in Sydney. Now, at the end of January I called to redeem my voucher for a flight on August 19th, returning to Sydney 15th. As Emirates have changed their schedule they now refuse to honour the voucher. They have available seats on Qantas code share from Sydney but flatly refuse to accept their own voucher. Emirates did infer that they may be able to offer a Jetstar code share out of Melbourne. This is completely unacceptable. I note that Emirates are cutting back flights to Australia. Perhaps the magic of the Emirates reputation is starting to fade, with this type of attitude it is likely to fade further.', '✅ Trip Verified |  Auckland to Denpasar. Would not recommend. Requested vegan or vegetarian food (twice) and received meat. Seated next to man who was provided with lots of alcohol, made passes at me then fell asleep on me and the staff would not move my seat despite many seats being free. Eventually spoke to another passenger and reseated myself.', \"✅ Trip Verified |  New York JFK to Milan. Well, I do not use to review my flights (I'm a frequent flyer with more than 30 trips per year) but during this flight I cannot hide my disappoint. The lounge, on board service, comfort, food are perfect but before departure I was one of the first to took my seat and I went into the toilet and there was a terrible smell inside, so this means they didn't clean the toilet after the previous flight. I cannot accept this on Emirates, especially on Business Class where the ticket costs at least three times more than the coach.\", \"✅ Trip Verified | Very disappointing flight with Emirates. Started at the airport with unfriendly Check In staff. We travelled as a couple and had together 85 kg luggage. 5kg overloaded. 80kg were permitted. With no discussion, I had to remove stuff to my hand luggage. Up in the air when it was the dessert service, I was full so I asked for just some cheese and fruit. The FA said no, you can only can choose one! Cheese or fruits! Are you kidding me? This is the first time that this has happened to me. I've been a frequent business and first class traveller for almost 20 years and have had mostly the opposite experience. In business class even when you are still hungry, you can have more food/desserts whenever you want. After that I went to the Sky bar (which is a nice feature of EK A380) and saw many fruits and more snacks. Very illogical. The FA who denied me my fruit, I saw her mostly in back galley, eating and chit chatting. It's the first time I have travelled with Emirates and maybe the last time.\", '✅ Trip Verified |  Cape Town to Bangkok via Dubai. Value for money, managed to get a good fare for this return ticket. I usually pay extra for an aisle seat , when I selected the seats for this flight I was not charged . My only complaint is the Asian Veg meal I usually order , it is always chickpeas and rice and fruit as a dessert ( from South Africa) whereas the special meal from Dubai and other destinations is always different and a proper dessert is available. Flights on time, crew pleasant except for a surly , unfriendly almost rude crew member from Dubai to Bangkok. It was obvious she does not like her job otherwise not a bad flight.', '✅ Trip Verified |  Dubai to Toronto. As a regular Emirates flyer I was very disappointed with my experience. When I was checking my baggage at the Emirates counter in Dubai airport the emirates representative told me that the baggage would be sent directly to Ottawa and that I would not have to pick up my baggage in Toronto. When I reached Ottawa my baggage never arrived and I was told by Westjet Airlines that I was supposed to pick up the baggage at Toronto airport.  Now my bags are somewhere in Toronto all because I was told that I did not need to pick up my luggage by one of Emirates agents. ', '✅ Trip Verified |  Manchester to Delhi via Dubai. Absolutely rubbish flight, we booked Emirates not flyDubai. Dubai to Delhi they put us in flyDubai aircraft where you have to pay for your food drinks and even tea or water.I have travelled in so many different airlines and never happened like this, food was rubbish too from Manchester to Delhi. On the way back due to their own fault the flight was delay for 1.5 hour and I missed connection flight in Dubai due to airlines fault and next flight they gave me was after 12 hours. Any flight gets late for 4 hours they give you compensation for being delayed - Emirates do not give any compensation At all. So be aware of it before you book your flight. I will not recommend or will travel in this flight ever again.', '✅ Trip Verified |  Cape Town to London via Dubai. Budget long haul airline. Starving hungry on a 9.5 hour flight. No movie snacks served. Nothing except a standard lunch after take off and then a disgusting vegetable baked good just before landing. 7 hours daytime flying with no food. What a joke. On the next leg from Dubai dinner was a turkey ham roll and that was it for 7 hours until an inedible breakfast was offered. Cheese and cracker with breakfast? Demonstrative of the lack of care and attention by emirates. Dirty planes. Smelly toilets.  I will never fly Emirates again. How reviewers are consistently rating Emirates above BA is beyond me and as we know BA is hardly a high benchmark. A massive TV screen and a large selection of films does not make up for a budget service. The cabin crew now start cleaning the plane before it lands, collecting blankets, etc. When the cabin crew start taking on the cleaners role you know things have gone bad. ', \"✅ Trip Verified |  Dubai to St.Petersburg. I'm flying a lot, but it the first time when my luggage was lost on direct flight (no connection). All are winter clothes including 3 kids's were at this bag (You always expect your luggage to be delivered on direct flight) and they couldn't deliver it already in 3 days. When I try to check the status at emirates.com/bags - the case was closed, live chat didn't work and phone-line was constantly busy, only Facebook was working. Looks even worse service than with low-cost airlines. Ground service 1-star and the Emirates in general is overpriced.\", \"✅ Trip Verified |  Due to my business trip I had to travel from Copenhagen Kastrup airport to Dubai and then back to Warsaw to catch my next flight from there. So first part of trip was operated by A380. During Online process I realized there is no more windows seats available. During checkin on the airport I've asked to window seat and I got this seat in emergency row. Also my baggage has been sent without extra costs (I had extra 6kg). At the terminal I've paid to lounge contracted with Emirates airline but it wasn't worth this price (250 DKK, around 33EUR). Boarding at the gate was late around 30 minutes but during this process there was good order, people was queued in the groups. Service on board was good but nothing special comparing to other airlines, meal choice was poor (only dishes with rice). Very good and very stable entertainment system with big selection of movies and games. Also GSM and WIFI network available onboard (I didn't use them at all due to nice passengers travelling next to me, we talked all the time). I land around midnight so traffic wasn't big and all security and luggage pickup in Dubai takes not much (around 1 hour). My flight back to Warsaw was 2 two days later at 8:05. I tried to check-in to choose my seat but it wasn't possible. During my way to the airport I've got an SMS with info I had been seated in the middle. So I went to the airport around 3:30AM and very quickly drop my luggage and pass all security to avoid waiting. It wasn't possible to change my seat, however they seat me in emergency row again. Unfortunately I had been charged for an extra 6 kilos in luggage. Security control was terrible long, they try to find something in my bag but they didn't tell me what they are looking for. I was more clever than on my previous flight and I've put all my cables in checked luggage before to avoid cables confiscated like on my previous flight. I don't understand why ethernet cable is dangerous at Dubai airport but it's ok on all other airports around the world. Inside the airport I found hundreds of people seating and lying on the floor and making passing very difficult in some areas. Whole airport was looking like dormitory for the homeless. Wifi I found overloaded, there was many disconnections during my use. During boarding there was a big mess, airport staff didn't queue people in groups before they start, boarding started 15 minutes after scheduled time. Flight was operated by Boeing 777 and I found seats are more tight than in A380. This travel was terribly uncomfortable. Also I found all meals are with potatoes on this flight (again no choice) and service good but average. All cabin staff on both flights tried to be nice. I arrive very tired. In Warsaw Emirates was 15 minutes late and they passed my luggage to next operator without any problems.\", 'Not Verified |  Taipei to Amsterdam via Dubai. My flights were problem free. Having checked in my baggage at Taoyuan airport I was relieved to see it re-appear at Schiphol! I found the seats in economy very comfortable, enjoyed the in-flight entertainment and the meals were delicious. Considering how very hardworking the cabin crew are, they were cheerful, friendly and caring. The ground staff at Taoyuan airport were particularly well organised.', '✅ Trip Verified | It was my first time travelling on Emirates Airlines. Flew from Singapore to Dubai with my family of 4. The ICE entertainment system could not be loaded for us and at least another 5 to 6 rows of passengers in the center row for the entire flight of more than 7 hours. We thought we paid for a premium airline but got a budget flight experience instead. The air crew could not care less; there was just an announcement on board that the in-flight entertainment for some passengers cannot be re-started. Two attempts to get the attention of the air stewardesses through the help button for a separate matter were ignored and not responded to at all. It has been two weeks, and Emirates has not responded to my feedback. I usually travel with Asian airlines, which really compares way better in terms of hospitality, in-flight service and facilities.', '✅ Trip Verified |  Addis Ababa to Los Angeles via Dubai. All flights on time. ADD to DXB portion was with new Boeing 777 business class seats, a real treat. Food good. Lots of entertainment on board. Biggest complaint would be that the continental breakfast platter can be confusing and the FA got my order wrong. They fixed the issue, however, so no worries. Wifi is slow, and in my opinion, not worth paying money for it.', '✅ Trip Verified |  Mumbai to Manchester via Dubai in business class. Overall, an excellent experience. The refurbished seats on the B77L were extremely comfortable and spacious. Certainly an upgrade from the dated seats on the 77W. A380 to Manchester was excellent. The ground staff in Mumbai were very helpful and attentive. The chauffeur service is one of the best features of flying with emirates. The complimentary WIFi was useful to stay in touch midair.', '✅ Trip Verified |  Malta to Male via Dubai. Complaint related to irresponsible staff and left without food for the flight from Malta to Male. I suffer from severe celiac condition and I am intolerant for any type of wheat and contamination. My father who booked the flights did not know that he had to book Gluten free meals 48 hours in advance, when we arrived at the airport in Malta, we asked at the check-in counter about gluten free meals and they informed us that the only way to get gluten free meals on board was to reserve the meals 48 hours in advance. We discussed with the inflight staff and asked them if they can spare some meat from the business class meals and the flight attended said that that was not possible. When we landed in Cyprus we asked to talk to the flight purser and she said she will see what she can do, Once we left Larnaka-Cyprus to Dubai, we asked if the crew managed to solve the issue, but they said unfortunately not and there was nothing they can do, they said that they informed Dubai so they can prepare food for the next flight, again I was left hungry on the flight between Larnaka-Cyprus and Dubai. My Father offered to pay extra for the business class food, but the staff said no. When we landed in Dubai, the first thing we done was to go to customer help and information desk and asked if the crew have ordered any Gluten free food for the next flight from Dubai to Male, the desk assistant said that there was nothing on the system and she will try and get some gluten free food on-board the next flight but she said she cannot promise.  We boarded the flight from Dubai to Male to Maldives and when dinner time arrived they informed us that there was no Gluten free meals and that there was only 3 meals available for other guests which they pre-ordered. ', 'Not Verified |  Bangkok to Zurich via Dubai. Boeing 777 seat is not comfortable but A380 seat is very good. Food is ok and inflight entertainment is so good. I will recommend A380 only.', '✅ Trip Verified |  Dublin to Kuala Lumpur via Dubai. Emirates website has a fixed character to insert your name as per passport when booking flights. As my name was too long i could not insert the whole thing. I had the same problem before and I was told to book my flight and ring the help line after. I did the same this time and was charged an extra 30 dollars to add characters to my name. It is absolutely ridiculous, I would understand if the mistake was on my part. But this is solely due to the lack of characters available when booking.', \"✅ Trip Verified |  New York to Cairo via Dubai. Flew business class on A380 to Dubai, then economy to Cairo on 777. service was excellent. Food high quality and plentiful. In flight entertainment had a variety of options; though I couldn't use for first 45 minutes of first flight due to a technical issue. Would fly again. Wifi was very slow throughout the flight compared to other airlines.\", '✅ Trip Verified |  Dubai to Cochin. My laptop weight and hand carry is checking separate and I paid extra for my laptop. And this is new for me, I purchased and traveled before with Emirates lot of times, it’s not fair. I will not take Emirates tickets more because of only this. ', \"Not Verified |  Prague to Singapore via Dubai. The seat and in-flight entertainment were decent. However their ground service wasn't't great at all. I emailed to arrange my family to sit together but did not reply and we were arranged to sit in different places. The crew were rather rude and unfriendly, and seem as if they were been forced to do this job. I understand that there were many people on the aircraft but their service was too slow. Lunch was served to me at 5pm. Overall, this journey was rather disappointing.\", \"Not Verified |  Sydney to Athens via Dubai. My husband and I have flown to Europe previously with Etihad, Qatar, and this year, Emirates. To say Emirates was disappointing and a league behind Etihad and Qatar would be an understatement. Our itinerary was to fly to Athens with Emirates, stay a night in Athens and then fly to Santorini with a different airline the following morning. Upon bag drop in Sydney with Emirates, we were asked if we would like our bags checked all the way through to Santorini. We stated that we had a night in Athens and were flying a different airline to Santorini; however, were reassured that this wasn't a problem at all and we could easily check our bags all the way through. So, for ease, time and convenience, we did; as we trusted that Emirates knew what they were doing. However, upon check in at Athens airport for our flight to Santorini, we were told by our airline that our bags would not have been checked through and we had to go and find them at baggage claim. With baggage claim struggling to locate our bags at baggage claim, we ended up missing our 9am flight to Santorini. As a direct result of us missing the flight, we then had to pay 450 euro for new flights to Santorini (one way for two people ; an equivalent of over $800 AUD), with the new flight scheduled for 5pm. As a direct result of Emirates incompetence, we not only missed our flight, but missed an entire day in Santorini. The anxiety caused from not knowing where our bags were, no one being able to help us, missing our flight, not being able to get onto another flight for another 8 hours, paying 450 euro for new flights, re-scheduling our hotel transfer and dinner booking (meaning that we could not get into the restaurant until 10pm) and having to re-purchase 40 euro train tickets back to Athens caused me to have an anxiety attack in the airport.  The most disappointing part is that Emirates were so difficult to deal with after the incident. We had to wait months to hear back from Emirates if our new flights to Santorini would be paid for; and that was the only compensation they gave. Emirates would not pay for any of my medical bills, our new train tickets or any compensation for our flights to/from Europe despite them causing havoc to our trip. As a result, I would strongly urge people not to fly with Emirates due to their level of incompetence, lack of professionalism and lack of empathy. \", '✅ Trip Verified |  Barcelona to Jakarta via Dubai. Emirates online and ground services got it wrong all the way. Going from Barcelona to Jakarta we had planned a stopover in Dubai, we had an hotel for the night and the second flight the day after. So we could travel in eco without being too tired. Unfortunately for us Emirates messed up multiple times. The flight was delayed, that might be a normal safety measure. But then we got no information or wrong information all the way. It’s a wrong strategy to do so with Emirates, as they can mess up your trip fully, and won’t give you more than a poor meal (free poor meal). They can tell you that you will get refunded for your additional expenses and then decline later. All the way to Jakarta, we asked to sleep in Dubai, in Emirates lounge maybe? Explaining we were losing our hotel. The day of departure, after delay notification: Support chat: “I don’t know”. Emirates Barcelona ground service: “I can’t give you anything in Dubai, you should ask there. But you will get the 600 euros indemnity each for severe delay, it should cover all your expenses, in case anyway.\"  At Emirates Dubai ground service: “Hi, can we sleep somewhere? We are really tired? - Here is your meal voucher. - But we would like to sleep, we are tired, we are not hungry, really. Can we go to the lounge, maybe? - Yeah.. maybe, try there, here is your meal voucher”. We needed to sleep, we paid the hotel in the airport, around 200 USD. We do the online complaint to Emirates. Emirates feedback: “In accordance with the EC regulation 261/2004 of the European Parliament and of the Council of the European Union, you are entitled to EUR 600.00 (Euros Six Hundred only) each.” We fill the form for funds transfer, as requested 7. Emirates feedback: Sorry, my bad, you get nothing because you arrived at your final destination on time.', \"✅ Trip Verified |  I travelled with my family from Dubai to Mauritius and what I did not like was the conduct of the staff near the end of the flight. The flight attendant came and collected the blankets 45 minutes before the landing and she did that in a firm way, like there was no discussion. I gave her mine (even though I am very cold whenever an AC is on) and had to ask her to let my daughter keep it. She said yes in a way like she was doing a favour to me. Then the lady next seat told her that she needed to keep the blanket, because she was sick and the flight attendant had a back and forth with her until she conceded at the end. Then after that, she came for the headphones 35 minutes before the landing with an almost rude attitude. My daughter and I were nearly finishing our movie and wanted to tell her that, but then I was watching around and no one was saying anything - I felt like I would be the only one complaining. I gave her both headphones and sat there for 30 minutes thinking about this flight. After all, leaving a blanket and a headphone for the passenger until the end of the flight is not asking too much. It's about the minimum an airline should provide for.\", '✅ Trip Verified |  Perth to London via Dubai. Always been great service and first choice even though competitor flight times are less the service was worth it. This time we booked a multi city holiday and have had the worst flight experience of our lives. So far 4/6 flights our family seating has been separated. This includes our 2 and 8 yr old kids having to seat on their own. We had to beg other passengers to swap seats to we could each sit with the kids. Not looking forward to the last 2 flights. Wonder what’s happened to cause such a decline. Hope you can find your old selves again. Were were not the only family affected on theses flights.', \"Not Verified |  Munich to Adelaide via Dubai. The first flight from Munich to Dubai was excellent. Traveling alone with my 10 month old son, the cabin crew were amazing. Introduced themselves personally and took my son for walks through the plane, gave him a meal & toys, and took a Polaroid keepsake. The flight wasnt full so I had the 4 seats to myself with the bassinet and when someone moved to the aisle seat after takeoff, Natasha said she would find the passenger an alternative seat for both our comfort levels (which was unnecessary but great). Unfortunately, the Dubai-Adelaide leg was terrible. I waited nearly 1.5 hours after takeoff to get the bassinet put up, then during the flight which was really turbulent (not much can be done about that I know), I had to buzz for my food trays to be removed as they sat there for a few hours. An elderly man was I'll in the toilet near where I was seated, and had opened the door whilst doubled over the sink vomiting, so again I buzzed for assistance for him but nobody even came! 2 female crew had an argument in the aisle about 1 getting a food order wrong, and it was just very unprofessional. Had it not been for the assistance of the passenger on the aisle and behind me helping me to reach the overhead compartment etc as i needed nappies and things during the flight, but had my son in my arms for almost 10 of the 12 hours due to the turbulence so was attempting to function using 1 hand, the flight would have been a worse experience. Food was ok (no infant meal provided) but ran out of salmon so only turkey available in 2nd meal service. Ticket was cheapest option for route but customer service needs a massive review for greater consistency across all flights.\", '✅ Trip Verified |  Hamburg to Dubai. It was an excellent flight. My comfort was helped by the fact that the gentleman in front did not lean back and that the seat left of me (I had an aisle in the middle row) was empty. So I could spread out my stuff. About 30 min after take off I walked to the galley and asked whether the bar was already open. I received a smile and two glasses of white wine. 15 Min later they distributed food and beverages, where the beverage trolley followed close to the food trolley. Crew worked with a smile. Beverages and food were good for an economy meal, wines were even good.  Throughout the flight crew passed by and served beverages. The IFE was high class and the internet was poor as usual. So overall, an excellent Y experience.', '✅ Trip Verified |  Brisbane to Nairobi via Dubai. My husband and I flew with Emirates for the first time and had negative experiences on both flights, there and back. The negative was in Dubai when we were waiting for our second flight. We were told boarding would start 40 minutes before departure and would close 20 minutes before departure. Approximately 50 minutes before departure was the first time the flight was shown on the departure screen with \"FINAL CALL\". We had to run to get to the gate on time as we thought we would miss our flight. When we arrived I asked why they started boarding so early and why there was no announcement for boarding until \"FINAL CALL\" and the hostess replied \"It\\'s protocol\". We received no explicit reason or justification whatsoever. The second was in Nairobi. Their system was down which is understandable that queues were extremely long and service taking a long time as well. However, we received absolutely no announcements as to what was happening and when the flight would take off. We were meant to fly at 10:45pm. After boarding at approximately that time we sat on the plane at the gate for 3 hours until we finally took off at 1:45am the next morning. On that flight I pushed the service button for water as we weren\\'t given anything for those 3 hours waiting on the plane but no one answered my request. I did this twice until I gave up. This wait and level of service was extremely frustrating to most passengers as they had connecting flights with short layovers. I was very disappointed with the service and lack of explanation by Emirates on this trip. I am not planning on flying with them again.', '✅ Trip Verified |  Dubai to Melbourne, on my way home now and I have found crew to be very rude, unfriendly and abrupt to customers. When walking past me they continue to bump into and even walk on my feet and not even apologize! I do lot look forward to flying with them again.', '✅ Trip Verified |  Glasgow to Hong Kong return via Dubai on Boeing 777-300 and A380. Very average experience all round, all flights on time and did what they said they’d do. Marked deterioration in service standards since I last flew them two years ago - no hot towels, drinks came after meals finished, second meal basically one mouthful and IFE nowhere near as extensive as advertised on their website. Cabin crew wholly unmemorable. All in all, unremarkable and uninspiring but got from A to B. Would fly again if price good and times worked, but wouldn’t go out of my way to do so.', \"✅ Trip Verified |  Dubai to Brisbane. Would never travel with Emirates again with an infant! Dreadful experience with Emirates travelling with our 20-month-old daughter. Flight crew were rude and unhelpful throughout the entire flight. The only time we ever saw them is when they came and barked orders at us!! We purchased 3 full-price seats for myself, my wife and our 20-month-old daughter, however the flight crew didn't offer our daughter any food during the entire 14-hour flight. When we asked the attendant if they had any food for our infant they said they didn't have any and we should have pre-ordered this! However this was the first we'd heard of this, and the lady sat next to us said that she didn't pre-order and her 4-year-old was given a kids meal! Emirates were well aware that we were travelling with an infant so surely they would have some provisions for this! Apparently not. I have flown hundreds of times and used most airlines - this was definitely the worst experience I've ever had.\", '✅ Trip Verified |  Dubai to Istanbul. Cost reductions in Emirates. This is my 4th flight in a month where Emirates only served chicken for a meal. This is my second review and will keep posting as I am a frequent traveler to Dubai. The host attendant told me their classic sentence \"Sorry sir we ran out of beef\". As I was expecting this answer I stand up and asked her \"How come no one in front 5-6 did not get any beef?\".  She just could not give a logical answer other than that there is a ratio based on customers. I told her that this is a lie as it\\'s my fourth flight I get the same response from them. Besides, I don\\'t understand why do they give you the menu as they never have beef meal on board? It is very obvious that Emirates is doing cost reduction by serving chicken instead of beef. I have another return flight scheduled in a week. I wonder what will I get.', '✅ Trip Verified |  Kathmandu to Toronto via Dubai. The worst experience ever, I booked wheelchair for my 80 years old grandmother but they didn’t provide any. For 80 years old person, she has walked one hourr from one terminal to another What a shame, what a service they provide I am not going to use this airline again.']\n"
     ]
    }
   ],
   "source": [
    "#Retrieve Review\n",
    "rev_element = result.find_all('div',class_='text_content')\n",
    "reviews = [element.text for element in rev_element]\n",
    "print(reviews)"
   ]
  },
  {
   "attachments": {},
   "cell_type": "markdown",
   "metadata": {},
   "source": [
    "Might be usefull, i'll separate the verified notes"
   ]
  },
  {
   "cell_type": "code",
   "execution_count": null,
   "metadata": {},
   "outputs": [],
   "source": [
    "for i in range(0,len(reviews)):\n",
    "    try:\n",
    "        reviews[i].split('|')[1]\n",
    "    except:\n",
    "        print(f'error {i}')\n",
    "reviews[43]"
   ]
  },
  {
   "cell_type": "code",
   "execution_count": null,
   "metadata": {},
   "outputs": [],
   "source": [
    "reviews[43]"
   ]
  },
  {
   "cell_type": "code",
   "execution_count": null,
   "metadata": {},
   "outputs": [],
   "source": [
    "verified_status = ['Verified' if review.startswith('✅ Trip Verified') else 'Not Verified' for review in reviews]\n",
    "reviews_only = [review.split('|', 1)[1].strip() for review in reviews]\n",
    "\n",
    "print(verified_status)\n",
    "print(reviews_only)"
   ]
  },
  {
   "cell_type": "code",
   "execution_count": 144,
   "metadata": {},
   "outputs": [],
   "source": [
    "verified_status = ['Verified' if review.startswith('✅ Trip Verified') else 'Not Verified' for review in reviews]\n",
    "reviews_only = [review.split('|')[1].strip() \n",
    "                if (review.startswith('✅ Trip Verified') or review.startswith('Not Verified')) \n",
    "                else review for review in reviews]"
   ]
  },
  {
   "cell_type": "code",
   "execution_count": 11,
   "metadata": {},
   "outputs": [],
   "source": [
    "reviewsrate = result.find_all('table', class_='review-ratings')\n",
    "\n",
    "Aircraft = []\n",
    "Traveller = []\n",
    "Seat = []\n",
    "Route = []\n",
    "Comfort = []\n",
    "Staff = []\n",
    "FnB = []\n",
    "Entertainment = []\n",
    "Service = []\n",
    "Wifi = []\n",
    "Value = []\n",
    "Recommended = []\n",
    "\n",
    "for review in reviewsrate:\n",
    "    data = {}\n",
    "\n",
    "    try:\n",
    "        Aircraft.append(review.select_one('.review-rating-header.aircraft + td').text.strip())\n",
    "    except AttributeError:\n",
    "        Aircraft.append(np.nan)\n",
    "\n",
    "    try:\n",
    "        Traveller.append(review.select_one('.review-rating-header.type_of_traveller + td').text.strip())\n",
    "    except AttributeError:\n",
    "        Traveller.append(np.nan)\n",
    "\n",
    "    try:\n",
    "        Seat.append(review.select_one('.review-rating-header.cabin_flown + td').text.strip())\n",
    "    except AttributeError:\n",
    "        Seat.append(np.nan)\n",
    "\n",
    "    try:\n",
    "        Route.append(review.select_one('.review-rating-header.route + td').text.strip())\n",
    "    except AttributeError:\n",
    "        Route.append(np.nan)\n",
    "\n",
    "    Comfort.append(len(review.select('.review-rating-header.seat_comfort + td .star.fill')))\n",
    "    Staff.append(len(review.select('.review-rating-header.cabin_staff_service + td .star.fill')))\n",
    "    FnB.append(len(review.select('.review-rating-header.food_and_beverages + td .star.fill')))\n",
    "    Entertainment.append(len(review.select('.review-rating-header.inflight_entertainment + td .star.fill')))\n",
    "    Service.append(len(review.select('.review-rating-header.ground_service + td .star.fill')))\n",
    "    Wifi.append(len(review.select('.review-rating-header.wifi_and_connectivity + td .star.fill')))\n",
    "    Value.append(len(review.select('.review-rating-header.value_for_money + td .star.fill')))\n",
    "\n",
    "    try:\n",
    "        Recommended.append(review.select_one('.review-rating-header.recommended + td').text.strip())\n",
    "    except AttributeError:\n",
    "        Recommended.append(np.nan)"
   ]
  },
  {
   "attachments": {},
   "cell_type": "markdown",
   "metadata": {},
   "source": [
    "Since i finally made the code with 1 sample, I will create loopable code so all page parsed."
   ]
  },
  {
   "cell_type": "code",
   "execution_count": 207,
   "metadata": {},
   "outputs": [],
   "source": [
    "def process_result(result):\n",
    "    import numpy as np\n",
    "    from datetime import datetime\n",
    "\n",
    "    # Retrieve User Name\n",
    "    name_element = result.find_all('span', itemprop='name')\n",
    "    name = [name.text for name in name_element]\n",
    "\n",
    "    # Retrieve Country Name\n",
    "    country_element = result.find_all('span', itemprop=\"author\")\n",
    "    countries = [element.next_sibling.strip(' ()\"') for element in country_element]\n",
    "\n",
    "    # Retrieve Date Published\n",
    "    date_element = result.find_all('time', itemprop='datePublished')\n",
    "    dates = [element['datetime'] for element in date_element]\n",
    "    # Change type\n",
    "    dates = [datetime.strptime(string_dates, '%Y-%m-%d') for string_dates in dates]\n",
    "\n",
    "    # Rating\n",
    "    rating_element = result.find_all('span', itemprop=\"ratingValue\")\n",
    "    rating = [int(element.text) for element in rating_element][1:]  # Because the first value is the overall value that always appears in each page\n",
    "\n",
    "    # Retrieve Headline\n",
    "    headline_element = result.find_all(class_='text_header')\n",
    "    headline = [element.text.strip('\"') for element in headline_element]\n",
    "    headline = headline[:-4]\n",
    "\n",
    "    # Retrieve Review\n",
    "    rev_element = result.find_all('div', class_='text_content')\n",
    "    reviews = [element.text for element in rev_element]\n",
    "\n",
    "    verified_status = ['Verified' if review.startswith('✅ Trip Verified') else 'Not Verified' for review in reviews]\n",
    "    reviews_only = [review.split('|')[1].strip() \n",
    "                    if (review.startswith('✅ Trip Verified') or review.startswith('Not Verified')) \n",
    "                    else review for review in reviews]\n",
    "\n",
    "\n",
    "\n",
    "    reviewsrate = result.find_all('table', class_='review-ratings')\n",
    "\n",
    "    Aircraft = []\n",
    "    Traveller = []\n",
    "    Seat = []\n",
    "    Route = []\n",
    "    Comfort = []\n",
    "    Staff = []\n",
    "    FnB = []\n",
    "    Entertainment = []\n",
    "    Service = []\n",
    "    Wifi = []\n",
    "    Value = []\n",
    "    Recommended = []\n",
    "\n",
    "    for review in reviewsrate:\n",
    "\n",
    "        try:\n",
    "            Aircraft.append(review.select_one('.review-rating-header.aircraft + td').text.strip())\n",
    "        except AttributeError:\n",
    "            Aircraft.append(np.nan)\n",
    "\n",
    "        try:\n",
    "            Traveller.append(review.select_one('.review-rating-header.type_of_traveller + td').text.strip())\n",
    "        except AttributeError:\n",
    "            Traveller.append(np.nan)\n",
    "\n",
    "        try:\n",
    "            Seat.append(review.select_one('.review-rating-header.cabin_flown + td').text.strip())\n",
    "        except AttributeError:\n",
    "            Seat.append(np.nan)\n",
    "\n",
    "        try:\n",
    "            Route.append(review.select_one('.review-rating-header.route + td').text.strip())\n",
    "        except AttributeError:\n",
    "            Route.append(np.nan)\n",
    "\n",
    "        Comfort.append(len(review.select('.review-rating-header.seat_comfort + td .star.fill')))\n",
    "        Staff.append(len(review.select('.review-rating-header.cabin_staff_service + td .star.fill')))\n",
    "        FnB.append(len(review.select('.review-rating-header.food_and_beverages + td .star.fill')))\n",
    "        Entertainment.append(len(review.select('.review-rating-header.inflight_entertainment + td .star.fill')))\n",
    "        Service.append(len(review.select('.review-rating-header.ground_service + td .star.fill')))\n",
    "        Wifi.append(len(review.select('.review-rating-header.wifi_and_connectivity + td .star.fill')))\n",
    "        Value.append(len(review.select('.review-rating-header.value_for_money + td .star.fill')))\n",
    "\n",
    "        try:\n",
    "            Recommended.append(review.select_one('.review-rating-header.recommended + td').text.strip())\n",
    "        except AttributeError:\n",
    "            Recommended.append(np.nan)\n",
    "\n",
    "    Aircraft = Aircraft[1:]\n",
    "    Traveller = Traveller[1:]\n",
    "    Seat = Seat[1:]\n",
    "    Route = Route[1:]\n",
    "    Comfort = Comfort[1:]\n",
    "    Staff = Staff[1:]\n",
    "    FnB = FnB[1:]\n",
    "    Entertainment = Entertainment[1:]\n",
    "    Service = Service[1:]\n",
    "    Wifi = Wifi[1:]\n",
    "    Value = Value[1:]\n",
    "    Recommended = Recommended[1:]\n",
    "\n",
    "    return {\n",
    "        'Name': name,\n",
    "        'Country': countries,\n",
    "        'Date': dates,\n",
    "        'Rating': rating,\n",
    "        'Headline': headline,\n",
    "        'Review': reviews_only,\n",
    "        'Verified': verified_status,\n",
    "        'Aircraft': Aircraft,\n",
    "        'Type': Traveller,\n",
    "        'Seat': Seat,\n",
    "        'Route': Route,\n",
    "        'Comfort': Comfort,\n",
    "        'Staff': Staff,\n",
    "        'FnB': FnB,\n",
    "        'Entertainment': Entertainment,\n",
    "        'Service': Service,\n",
    "        'Wifi': Wifi,\n",
    "        'Value': Value,\n",
    "        'Recommended': Recommended\n",
    "    }\n"
   ]
  },
  {
   "cell_type": "code",
   "execution_count": 208,
   "metadata": {},
   "outputs": [],
   "source": [
    "# Create an empty list to store the processed results\n",
    "dataset = []\n",
    "i = 1\n",
    "# Loop through each dictionary in your list of dictionaries\n",
    "for result in loaded_dict.values():\n",
    "    try:\n",
    "        # Process the current result\n",
    "        processed_result = process_result(result)\n",
    "    \n",
    "        # Append the processed result to the dataset list\n",
    "        dataset.append(processed_result)\n",
    "    except:\n",
    "        print(f'Error in page {i}')\n",
    "        pass\n",
    "    i+=1"
   ]
  }
 ],
 "metadata": {
  "kernelspec": {
   "display_name": "Python 3",
   "language": "python",
   "name": "python3"
  },
  "language_info": {
   "codemirror_mode": {
    "name": "ipython",
    "version": 3
   },
   "file_extension": ".py",
   "mimetype": "text/x-python",
   "name": "python",
   "nbconvert_exporter": "python",
   "pygments_lexer": "ipython3",
   "version": "3.11.3"
  },
  "orig_nbformat": 4
 },
 "nbformat": 4,
 "nbformat_minor": 2
}
