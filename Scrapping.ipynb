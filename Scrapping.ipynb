{
 "cells": [
  {
   "attachments": {},
   "cell_type": "markdown",
   "metadata": {},
   "source": [
    "# Emirates Review Project"
   ]
  },
  {
   "attachments": {},
   "cell_type": "markdown",
   "metadata": {},
   "source": [
    "This project created by **Ahmad Ulfi Jihad Dzulqornain** for data analyst portfolio <br>\n",
    "\n",
    "Our adventure begins with a visit to the beloved website AirlineQuality.com, where we'll immerse ourselves in a treasure trove of reviews from Emirates passengers. But before we set off, let's make sure we have all the necessary tools in our arsenal:\n"
   ]
  },
  {
   "attachments": {},
   "cell_type": "markdown",
   "metadata": {},
   "source": [
    "_______"
   ]
  },
  {
   "attachments": {},
   "cell_type": "markdown",
   "metadata": {},
   "source": [
    "First thing first, we need to install the package needed including:\n",
    "- Selenium 🕸️\n",
    "- BeautifulSoup4 🍲\n",
    "- Pandas 🐼\n",
    "- Numpy 🔢\n",
    "- Pickle 🥒\n",
    "- datetime 📅"
   ]
  },
  {
   "attachments": {},
   "cell_type": "markdown",
   "metadata": {},
   "source": [
    "Join me on this thrilling adventure through the Emirates Review Project, where we'll soar through the skies of data analysis, discovering the highs, the lows, and everything in between. Let's unravel the stories, sentiments, and trends that shape the Emirates airline experience."
   ]
  },
  {
   "attachments": {},
   "cell_type": "markdown",
   "metadata": {},
   "source": [
    "```Note: This project is a showcase of my data analysis skills and is not officially affiliated with Emirates or AirlineQuality.com.✍️```"
   ]
  },
  {
   "cell_type": "code",
   "execution_count": 1,
   "metadata": {},
   "outputs": [],
   "source": [
    "from selenium import webdriver\n",
    "from selenium.webdriver.common.by import By\n",
    "from selenium import webdriver\n",
    "from bs4 import BeautifulSoup\n",
    "from datetime import datetime\n",
    "\n",
    "import pandas as pd\n",
    "import numpy as np\n",
    "import pickle"
   ]
  },
  {
   "attachments": {},
   "cell_type": "markdown",
   "metadata": {},
   "source": [
    "\n",
    "To provide comprehensive information, web scraping was performed to extract the following details from each review:<br><br>\n",
    "- **Name** 👤: The reviewer's name.<br>\n",
    "- **Country** 🌍: The country of origin.<br>\n",
    "- **Date** 📅: The date the review was posted.<br>\n",
    "- **Overall Rating** ⭐️: A rating out of 10, representing the overall experience.<br>\n",
    "- **Headline** 📰: A concise summary of the review.<br>\n",
    "- **Review** 💬: The detailed review text.<br>\n",
    "- **Aircraft** ✈️: The specific aircraft used.<br>\n",
    "- **Type of Traveller** 🎒: The category of the traveler (e.g., business, leisure).<br>\n",
    "- **Seat Type** 🪑: The type of seat chosen.<br>\n",
    "- **Route** 🗺️: The flight route taken.<br>\n",
    "- **Seat Comfort Rating** 😌: A rating out of 10 for seat comfort.<br>\n",
    "- **Cabin Staff Service Rating** 🙌: A rating out of 10 for the cabin staff's service.<br>\n",
    "- **FnB Rating** 🍽️: A rating out of 10 for food and beverage services.<br>\n",
    "- **Inflight Entertainment Rating** 🎥: A rating out of 10 for inflight entertainment.<br>\n",
    "- **Ground Service Rating** 🛫: A rating out of 10 for ground services.<br>\n",
    "- **Wifi & Connectivity Rating** 📶: A rating out of 10 for wifi and connectivity.<br>\n",
    "- **Value for Money Rating** 💰: A rating out of 10 for the value provided.<br>\n",
    "- **Recommended** 👍👎: Whether the reviewer would recommend the airline (Yes/No).<br><br>\n",
    "Now, with all these insightful details, readers can dive into a richer understanding of the reviews! 😊🚀"
   ]
  },
  {
   "attachments": {},
   "cell_type": "markdown",
   "metadata": {},
   "source": [
    "The provided code uses Selenium and BeautifulSoup libraries to scrape airline reviews from the website [https://www.airlinequality.com/airline-reviews/emirates/](https://www.airlinequality.com/airline-reviews/emirates/).\n",
    "\n",
    "**Code Flow:**\n",
    "- Initializes a Chrome WebDriver session.\n",
    "- Navigates to the specified URL.\n",
    "- Parses HTML responses.\n",
    "\n",
    "This code enables efficient scraping of airline reviews for further analysis."
   ]
  },
  {
   "attachments": {},
   "cell_type": "markdown",
   "metadata": {},
   "source": [
    "🌟 Displaying only 10 reviews as the default setting on the website can be a bit limiting. To enhance the user experience, access has been opened to showcase the complete set of reviews. ✨<br><br>"
   ]
  },
  {
   "cell_type": "code",
   "execution_count": 14,
   "metadata": {},
   "outputs": [],
   "source": [
    "# Specify the URL to scrape\n",
    "url = 'https://www.airlinequality.com/airline-reviews/emirates/page/1/?sortby=post_date%3ADesc&pagesize=2269'"
   ]
  },
  {
   "cell_type": "code",
   "execution_count": 15,
   "metadata": {},
   "outputs": [
    {
     "name": "stderr",
     "output_type": "stream",
     "text": [
      "C:\\Users\\ASUS\\AppData\\Local\\Temp\\ipykernel_4932\\1480451183.py:5: DeprecationWarning: executable_path has been deprecated, please pass in a Service object\n",
      "  driver = webdriver.Chrome(path_chromedriver)\n"
     ]
    }
   ],
   "source": [
    "# Set the path for the chromedriver executable\n",
    "path_chromedriver = (\"./chromedriver_win32/chromedriver.exe\")\n",
    "\n",
    "# Initialize Chrome WebDriver\n",
    "driver = webdriver.Chrome(path_chromedriver)\n",
    "\n",
    "# Open the URL in the driver\n",
    "driver.get(url)"
   ]
  },
  {
   "cell_type": "code",
   "execution_count": 16,
   "metadata": {},
   "outputs": [],
   "source": [
    "# Create BeautifulSoup object for parsing the page source\n",
    "result = BeautifulSoup(driver.page_source, 'html.parser')\n",
    "\n",
    "# Close the driver\n",
    "driver.close()"
   ]
  },
  {
   "cell_type": "code",
   "execution_count": 17,
   "metadata": {},
   "outputs": [],
   "source": [
    "# Save the result as a .pkl file\n",
    "with open('result.pkl', 'wb') as file:\n",
    "    pickle.dump(result, file)"
   ]
  },
  {
   "cell_type": "code",
   "execution_count": 2,
   "metadata": {},
   "outputs": [],
   "source": [
    "# Open the .pkl file in binary mode\n",
    "with open('result.pkl', \"rb\") as file:\n",
    "    result = pickle.load(file)"
   ]
  },
  {
   "cell_type": "code",
   "execution_count": 37,
   "metadata": {},
   "outputs": [
    {
     "data": {
      "text/plain": [
       "2269"
      ]
     },
     "execution_count": 37,
     "metadata": {},
     "output_type": "execute_result"
    }
   ],
   "source": [
    "# Retrieve User Name\n",
    "name_element = result.find_all('span',itemprop='name')\n",
    "name = [element.text for element in name_element]\n",
    "len(name)"
   ]
  },
  {
   "cell_type": "code",
   "execution_count": 36,
   "metadata": {},
   "outputs": [
    {
     "data": {
      "text/plain": [
       "2269"
      ]
     },
     "execution_count": 36,
     "metadata": {},
     "output_type": "execute_result"
    }
   ],
   "source": [
    "# Retrieve Country Name\n",
    "country_element = result.find_all('span',itemprop=\"author\")\n",
    "country = [element.next_sibling.strip(' ()\"') for element in country_element]\n",
    "len(country)"
   ]
  },
  {
   "cell_type": "code",
   "execution_count": 34,
   "metadata": {},
   "outputs": [
    {
     "data": {
      "text/plain": [
       "2269"
      ]
     },
     "execution_count": 34,
     "metadata": {},
     "output_type": "execute_result"
    }
   ],
   "source": [
    "# Retrieve Date Published\n",
    "date_element = result.find_all('time',itemprop='datePublished')\n",
    "date = [element['datetime'] for element in date_element]\n",
    "# Change type\n",
    "dates = [datetime.strptime(string_dates,'%Y-%m-%d')\n",
    "         for string_dates in date]\n",
    "len(dates)"
   ]
  },
  {
   "cell_type": "code",
   "execution_count": 38,
   "metadata": {},
   "outputs": [
    {
     "data": {
      "text/plain": [
       "2269"
      ]
     },
     "execution_count": 38,
     "metadata": {},
     "output_type": "execute_result"
    }
   ],
   "source": [
    "# Rating\n",
    "rating_element = result.find_all('span',itemprop=\"ratingValue\")\n",
    "rating = [int(element.text) for element in rating_element]\n",
    "len(rating)"
   ]
  },
  {
   "cell_type": "code",
   "execution_count": 39,
   "metadata": {},
   "outputs": [
    {
     "data": {
      "text/plain": [
       "2273"
      ]
     },
     "execution_count": 39,
     "metadata": {},
     "output_type": "execute_result"
    }
   ],
   "source": [
    "#Retrieve Headline\n",
    "headline_element = result.find_all(class_='text_header')\n",
    "headline = [element.text.strip('\"') for element in headline_element]\n",
    "len(headline)"
   ]
  },
  {
   "cell_type": "code",
   "execution_count": 42,
   "metadata": {},
   "outputs": [
    {
     "data": {
      "text/plain": [
       "2269"
      ]
     },
     "execution_count": 42,
     "metadata": {},
     "output_type": "execute_result"
    }
   ],
   "source": [
    "#Retrieve Review\n",
    "rev_element = result.find_all('div',class_='text_content')\n",
    "reviews = [element.text for element in rev_element]\n",
    "len(reviews)"
   ]
  },
  {
   "cell_type": "code",
   "execution_count": 44,
   "metadata": {},
   "outputs": [
    {
     "data": {
      "text/plain": [
       "2269"
      ]
     },
     "execution_count": 44,
     "metadata": {},
     "output_type": "execute_result"
    }
   ],
   "source": [
    "verified_status = ['Verified' if review.startswith('✅ Trip Verified') else 'Not Verified' for review in reviews]\n",
    "review_only = [review.split('|')[1].strip() \n",
    "                if (review.startswith('✅ Trip Verified') or review.startswith('Not Verified')) \n",
    "                else review for review in reviews]\n",
    "len(verified_status)"
   ]
  },
  {
   "cell_type": "code",
   "execution_count": 27,
   "metadata": {},
   "outputs": [],
   "source": [
    "reviewsrate = result.find_all('table', class_='review-ratings')"
   ]
  },
  {
   "cell_type": "code",
   "execution_count": 68,
   "metadata": {},
   "outputs": [],
   "source": [
    "overall_rate = reviewsrate[0]\n",
    "reviewsrate = reviewsrate[1:]"
   ]
  },
  {
   "cell_type": "code",
   "execution_count": 69,
   "metadata": {},
   "outputs": [],
   "source": [
    "reviewsrate = result.find_all('table', class_='review-ratings')\n",
    "\n",
    "Aircraft = []\n",
    "Traveller = []\n",
    "Seat = []\n",
    "Route = []\n",
    "Comfort = []\n",
    "Staff = []\n",
    "FnB = []\n",
    "Entertainment = []\n",
    "Service = []\n",
    "Wifi = []\n",
    "Value = []\n",
    "Recommended = []\n",
    "\n",
    "for review in reviewsrate:\n",
    "    data = {}\n",
    "\n",
    "    try:\n",
    "        Aircraft.append(review.find('.review-rating-header.aircraft + td').text.strip())\n",
    "    except AttributeError:\n",
    "        Aircraft.append(np.nan)\n",
    "\n",
    "    try:\n",
    "        Traveller.append(review.select_one('.review-rating-header.type_of_traveller + td').text.strip())\n",
    "    except AttributeError:\n",
    "        Traveller.append(np.nan)\n",
    "\n",
    "    try:\n",
    "        Seat.append(review.select_one('.review-rating-header.cabin_flown + td').text.strip())\n",
    "    except AttributeError:\n",
    "        Seat.append(np.nan)\n",
    "\n",
    "    try:\n",
    "        Route.append(review.select_one('.review-rating-header.route + td').text.strip())\n",
    "    except AttributeError:\n",
    "        Route.append(np.nan)\n",
    "\n",
    "    Comfort.append(len(review.select('.review-rating-header.seat_comfort + td .star.fill')))\n",
    "    Staff.append(len(review.select('.review-rating-header.cabin_staff_service + td .star.fill')))\n",
    "    FnB.append(len(review.select('.review-rating-header.food_and_beverages + td .star.fill')))\n",
    "    Entertainment.append(len(review.select('.review-rating-header.inflight_entertainment + td .star.fill')))\n",
    "    Service.append(len(review.select('.review-rating-header.ground_service + td .star.fill')))\n",
    "    Wifi.append(len(review.select('.review-rating-header.wifi_and_connectivity + td .star.fill')))\n",
    "    Value.append(len(review.select('.review-rating-header.value_for_money + td .star.fill')))\n",
    "\n",
    "    try:\n",
    "        Recommended.append(review.select_one('.review-rating-header.recommended + td').text.strip())\n",
    "    except AttributeError:\n",
    "        Recommended.append(np.nan)"
   ]
  },
  {
   "cell_type": "code",
   "execution_count": 71,
   "metadata": {},
   "outputs": [
    {
     "data": {
      "text/plain": [
       "2270"
      ]
     },
     "execution_count": 71,
     "metadata": {},
     "output_type": "execute_result"
    }
   ],
   "source": [
    "len(Aircraft)"
   ]
  },
  {
   "cell_type": "code",
   "execution_count": 33,
   "metadata": {},
   "outputs": [],
   "source": [
    "data = {\n",
    "    'Name' : name,\n",
    "    'Country' : country,\n",
    "    'dates' : dates,\n",
    "    'Rating' : rating[1:],\n",
    "    'Headline' : headline[:-4],\n",
    "    'Review' : review_only,\n",
    "    'Verified' : verified_status,\n",
    "    'Aircraft' : Aircraft[1:],\n",
    "    'Traveller' : Traveller[1:],\n",
    "    'Seat' : Seat[1:],\n",
    "    'Route' : Route[1:],\n",
    "    'Comfort' : Comfort[1:],\n",
    "    'Staff' : Staff[1:],\n",
    "    'FnB' : FnB[1:],\n",
    "    'Entertainment' : Entertainment[1:],\n",
    "    'Service' : Service[1:],\n",
    "    'Wifi' : Wifi[1:],\n",
    "    'Value' : Value[1:],\n",
    "    'Recommended' : Recommended[1:]}"
   ]
  },
  {
   "cell_type": "code",
   "execution_count": 32,
   "metadata": {},
   "outputs": [],
   "source": [
    "for i in data:\n",
    "    if len(data[i])>2268 or len(data[i])<2268:\n",
    "        print(i)\n",
    "        print(len(data[i]))"
   ]
  },
  {
   "cell_type": "code",
   "execution_count": 34,
   "metadata": {},
   "outputs": [
    {
     "data": {
      "text/html": [
       "<div>\n",
       "<style scoped>\n",
       "    .dataframe tbody tr th:only-of-type {\n",
       "        vertical-align: middle;\n",
       "    }\n",
       "\n",
       "    .dataframe tbody tr th {\n",
       "        vertical-align: top;\n",
       "    }\n",
       "\n",
       "    .dataframe thead th {\n",
       "        text-align: right;\n",
       "    }\n",
       "</style>\n",
       "<table border=\"1\" class=\"dataframe\">\n",
       "  <thead>\n",
       "    <tr style=\"text-align: right;\">\n",
       "      <th></th>\n",
       "      <th>Name</th>\n",
       "      <th>Country</th>\n",
       "      <th>dates</th>\n",
       "      <th>Rating</th>\n",
       "      <th>Headline</th>\n",
       "      <th>Review</th>\n",
       "      <th>Verified</th>\n",
       "      <th>Aircraft</th>\n",
       "      <th>Traveller</th>\n",
       "      <th>Seat</th>\n",
       "      <th>Route</th>\n",
       "      <th>Comfort</th>\n",
       "      <th>Staff</th>\n",
       "      <th>FnB</th>\n",
       "      <th>Entertainment</th>\n",
       "      <th>Service</th>\n",
       "      <th>Wifi</th>\n",
       "      <th>Value</th>\n",
       "      <th>Recommended</th>\n",
       "    </tr>\n",
       "  </thead>\n",
       "  <tbody>\n",
       "    <tr>\n",
       "      <th>0</th>\n",
       "      <td>Wendy Felese</td>\n",
       "      <td>United States</td>\n",
       "      <td>2023-06-06</td>\n",
       "      <td>10</td>\n",
       "      <td>pleasant and professional</td>\n",
       "      <td>Every encounter with airline representatives w...</td>\n",
       "      <td>Verified</td>\n",
       "      <td>A340</td>\n",
       "      <td>Couple Leisure</td>\n",
       "      <td>Economy Class</td>\n",
       "      <td>New York JFK to Dubai</td>\n",
       "      <td>5</td>\n",
       "      <td>5</td>\n",
       "      <td>5</td>\n",
       "      <td>5</td>\n",
       "      <td>5</td>\n",
       "      <td>0</td>\n",
       "      <td>5</td>\n",
       "      <td>yes</td>\n",
       "    </tr>\n",
       "    <tr>\n",
       "      <th>1</th>\n",
       "      <td>Wayne Good</td>\n",
       "      <td>New Zealand</td>\n",
       "      <td>2023-06-06</td>\n",
       "      <td>10</td>\n",
       "      <td>excelling with their food</td>\n",
       "      <td>Birmingham to Dubai, Boeing 777. Hideous aircr...</td>\n",
       "      <td>Verified</td>\n",
       "      <td>Boeing 777-300 / A380</td>\n",
       "      <td>Solo Leisure</td>\n",
       "      <td>Economy Class</td>\n",
       "      <td>Birmingham to Auckland via Dubai</td>\n",
       "      <td>4</td>\n",
       "      <td>5</td>\n",
       "      <td>5</td>\n",
       "      <td>5</td>\n",
       "      <td>4</td>\n",
       "      <td>5</td>\n",
       "      <td>4</td>\n",
       "      <td>yes</td>\n",
       "    </tr>\n",
       "    <tr>\n",
       "      <th>2</th>\n",
       "      <td>M Warter</td>\n",
       "      <td>United States</td>\n",
       "      <td>2023-05-31</td>\n",
       "      <td>1</td>\n",
       "      <td>worst experience of my lifetime</td>\n",
       "      <td>I had the worst experience of my lifetime flyi...</td>\n",
       "      <td>Verified</td>\n",
       "      <td>Boeing 777</td>\n",
       "      <td>Couple Leisure</td>\n",
       "      <td>Economy Class</td>\n",
       "      <td>Trivandrum to Seattle via Dubai</td>\n",
       "      <td>1</td>\n",
       "      <td>1</td>\n",
       "      <td>1</td>\n",
       "      <td>1</td>\n",
       "      <td>3</td>\n",
       "      <td>1</td>\n",
       "      <td>1</td>\n",
       "      <td>no</td>\n",
       "    </tr>\n",
       "    <tr>\n",
       "      <th>3</th>\n",
       "      <td>L Parelli</td>\n",
       "      <td>Portugal</td>\n",
       "      <td>2023-05-29</td>\n",
       "      <td>7</td>\n",
       "      <td>acceptably comfortable</td>\n",
       "      <td>Lisbon to Dubai in one of Emirates B777. The p...</td>\n",
       "      <td>Verified</td>\n",
       "      <td>Boeing 777</td>\n",
       "      <td>Business</td>\n",
       "      <td>Economy Class</td>\n",
       "      <td>Lisbon to Dubai</td>\n",
       "      <td>3</td>\n",
       "      <td>5</td>\n",
       "      <td>4</td>\n",
       "      <td>5</td>\n",
       "      <td>4</td>\n",
       "      <td>4</td>\n",
       "      <td>4</td>\n",
       "      <td>yes</td>\n",
       "    </tr>\n",
       "    <tr>\n",
       "      <th>4</th>\n",
       "      <td>Alain Delaunay</td>\n",
       "      <td>Germany</td>\n",
       "      <td>2023-05-27</td>\n",
       "      <td>10</td>\n",
       "      <td>complete different experience</td>\n",
       "      <td>Had the chance to travel in first class but th...</td>\n",
       "      <td>Verified</td>\n",
       "      <td>Boeing 777 / A380</td>\n",
       "      <td>Business</td>\n",
       "      <td>First Class</td>\n",
       "      <td>Hamburg to Bangkok via Dubai</td>\n",
       "      <td>5</td>\n",
       "      <td>5</td>\n",
       "      <td>5</td>\n",
       "      <td>5</td>\n",
       "      <td>5</td>\n",
       "      <td>5</td>\n",
       "      <td>5</td>\n",
       "      <td>yes</td>\n",
       "    </tr>\n",
       "    <tr>\n",
       "      <th>...</th>\n",
       "      <td>...</td>\n",
       "      <td>...</td>\n",
       "      <td>...</td>\n",
       "      <td>...</td>\n",
       "      <td>...</td>\n",
       "      <td>...</td>\n",
       "      <td>...</td>\n",
       "      <td>...</td>\n",
       "      <td>...</td>\n",
       "      <td>...</td>\n",
       "      <td>...</td>\n",
       "      <td>...</td>\n",
       "      <td>...</td>\n",
       "      <td>...</td>\n",
       "      <td>...</td>\n",
       "      <td>...</td>\n",
       "      <td>...</td>\n",
       "      <td>...</td>\n",
       "      <td>...</td>\n",
       "    </tr>\n",
       "    <tr>\n",
       "      <th>2263</th>\n",
       "      <td>D James</td>\n",
       "      <td>South Africa</td>\n",
       "      <td>2013-12-29</td>\n",
       "      <td>10</td>\n",
       "      <td>Emirates customer review</td>\n",
       "      <td>Cape Town to Bangkok-departed on time excellen...</td>\n",
       "      <td>Not Verified</td>\n",
       "      <td>NaN</td>\n",
       "      <td>NaN</td>\n",
       "      <td>Economy Class</td>\n",
       "      <td>NaN</td>\n",
       "      <td>3</td>\n",
       "      <td>3</td>\n",
       "      <td>4</td>\n",
       "      <td>4</td>\n",
       "      <td>0</td>\n",
       "      <td>0</td>\n",
       "      <td>4</td>\n",
       "      <td>yes</td>\n",
       "    </tr>\n",
       "    <tr>\n",
       "      <th>2264</th>\n",
       "      <td>M Caplan</td>\n",
       "      <td>United Kingdom</td>\n",
       "      <td>2013-12-29</td>\n",
       "      <td>2</td>\n",
       "      <td>Emirates customer review</td>\n",
       "      <td>Flew 6 flights recently in business with Emira...</td>\n",
       "      <td>Not Verified</td>\n",
       "      <td>NaN</td>\n",
       "      <td>NaN</td>\n",
       "      <td>Business Class</td>\n",
       "      <td>NaN</td>\n",
       "      <td>5</td>\n",
       "      <td>5</td>\n",
       "      <td>5</td>\n",
       "      <td>5</td>\n",
       "      <td>0</td>\n",
       "      <td>0</td>\n",
       "      <td>5</td>\n",
       "      <td>yes</td>\n",
       "    </tr>\n",
       "    <tr>\n",
       "      <th>2265</th>\n",
       "      <td>Ranaweera Ravindra</td>\n",
       "      <td>Japan</td>\n",
       "      <td>2013-12-29</td>\n",
       "      <td>3</td>\n",
       "      <td>Emirates customer review</td>\n",
       "      <td>The fleets are new comfy. Flew Narita-Dubai-Mu...</td>\n",
       "      <td>Not Verified</td>\n",
       "      <td>NaN</td>\n",
       "      <td>NaN</td>\n",
       "      <td>Economy Class</td>\n",
       "      <td>NaN</td>\n",
       "      <td>4</td>\n",
       "      <td>1</td>\n",
       "      <td>2</td>\n",
       "      <td>5</td>\n",
       "      <td>0</td>\n",
       "      <td>0</td>\n",
       "      <td>3</td>\n",
       "      <td>no</td>\n",
       "    </tr>\n",
       "    <tr>\n",
       "      <th>2266</th>\n",
       "      <td>R Breakwell</td>\n",
       "      <td>Australia</td>\n",
       "      <td>2013-12-25</td>\n",
       "      <td>5</td>\n",
       "      <td>Emirates customer review</td>\n",
       "      <td>NBO-SIN-NBO. First leg was alright but nothing...</td>\n",
       "      <td>Not Verified</td>\n",
       "      <td>NaN</td>\n",
       "      <td>NaN</td>\n",
       "      <td>Economy Class</td>\n",
       "      <td>NaN</td>\n",
       "      <td>3</td>\n",
       "      <td>1</td>\n",
       "      <td>2</td>\n",
       "      <td>5</td>\n",
       "      <td>0</td>\n",
       "      <td>0</td>\n",
       "      <td>3</td>\n",
       "      <td>no</td>\n",
       "    </tr>\n",
       "    <tr>\n",
       "      <th>2267</th>\n",
       "      <td>D Thomas</td>\n",
       "      <td>Australia</td>\n",
       "      <td>2013-12-23</td>\n",
       "      <td>skip</td>\n",
       "      <td>Emirates customer review</td>\n",
       "      <td>Bangkok to Sydney. Have previously flown this ...</td>\n",
       "      <td>Not Verified</td>\n",
       "      <td>NaN</td>\n",
       "      <td>NaN</td>\n",
       "      <td>Economy Class</td>\n",
       "      <td>NaN</td>\n",
       "      <td>3</td>\n",
       "      <td>3</td>\n",
       "      <td>1</td>\n",
       "      <td>4</td>\n",
       "      <td>0</td>\n",
       "      <td>0</td>\n",
       "      <td>4</td>\n",
       "      <td>no</td>\n",
       "    </tr>\n",
       "  </tbody>\n",
       "</table>\n",
       "<p>2268 rows × 19 columns</p>\n",
       "</div>"
      ],
      "text/plain": [
       "                    Name         Country      dates Rating   \n",
       "0           Wendy Felese   United States 2023-06-06     10  \\\n",
       "1             Wayne Good     New Zealand 2023-06-06     10   \n",
       "2               M Warter   United States 2023-05-31      1   \n",
       "3              L Parelli        Portugal 2023-05-29      7   \n",
       "4         Alain Delaunay         Germany 2023-05-27     10   \n",
       "...                  ...             ...        ...    ...   \n",
       "2263             D James    South Africa 2013-12-29     10   \n",
       "2264            M Caplan  United Kingdom 2013-12-29      2   \n",
       "2265  Ranaweera Ravindra           Japan 2013-12-29      3   \n",
       "2266         R Breakwell       Australia 2013-12-25      5   \n",
       "2267            D Thomas       Australia 2013-12-23   skip   \n",
       "\n",
       "                             Headline   \n",
       "0           pleasant and professional  \\\n",
       "1           excelling with their food   \n",
       "2     worst experience of my lifetime   \n",
       "3              acceptably comfortable   \n",
       "4       complete different experience   \n",
       "...                               ...   \n",
       "2263         Emirates customer review   \n",
       "2264         Emirates customer review   \n",
       "2265         Emirates customer review   \n",
       "2266         Emirates customer review   \n",
       "2267         Emirates customer review   \n",
       "\n",
       "                                                 Review      Verified   \n",
       "0     Every encounter with airline representatives w...      Verified  \\\n",
       "1     Birmingham to Dubai, Boeing 777. Hideous aircr...      Verified   \n",
       "2     I had the worst experience of my lifetime flyi...      Verified   \n",
       "3     Lisbon to Dubai in one of Emirates B777. The p...      Verified   \n",
       "4     Had the chance to travel in first class but th...      Verified   \n",
       "...                                                 ...           ...   \n",
       "2263  Cape Town to Bangkok-departed on time excellen...  Not Verified   \n",
       "2264  Flew 6 flights recently in business with Emira...  Not Verified   \n",
       "2265  The fleets are new comfy. Flew Narita-Dubai-Mu...  Not Verified   \n",
       "2266  NBO-SIN-NBO. First leg was alright but nothing...  Not Verified   \n",
       "2267  Bangkok to Sydney. Have previously flown this ...  Not Verified   \n",
       "\n",
       "                   Aircraft       Traveller            Seat   \n",
       "0                      A340  Couple Leisure   Economy Class  \\\n",
       "1     Boeing 777-300 / A380    Solo Leisure   Economy Class   \n",
       "2                Boeing 777  Couple Leisure   Economy Class   \n",
       "3                Boeing 777        Business   Economy Class   \n",
       "4         Boeing 777 / A380        Business     First Class   \n",
       "...                     ...             ...             ...   \n",
       "2263                    NaN             NaN   Economy Class   \n",
       "2264                    NaN             NaN  Business Class   \n",
       "2265                    NaN             NaN   Economy Class   \n",
       "2266                    NaN             NaN   Economy Class   \n",
       "2267                    NaN             NaN   Economy Class   \n",
       "\n",
       "                                 Route  Comfort  Staff  FnB  Entertainment   \n",
       "0                New York JFK to Dubai        5      5    5              5  \\\n",
       "1     Birmingham to Auckland via Dubai        4      5    5              5   \n",
       "2      Trivandrum to Seattle via Dubai        1      1    1              1   \n",
       "3                      Lisbon to Dubai        3      5    4              5   \n",
       "4         Hamburg to Bangkok via Dubai        5      5    5              5   \n",
       "...                                ...      ...    ...  ...            ...   \n",
       "2263                               NaN        3      3    4              4   \n",
       "2264                               NaN        5      5    5              5   \n",
       "2265                               NaN        4      1    2              5   \n",
       "2266                               NaN        3      1    2              5   \n",
       "2267                               NaN        3      3    1              4   \n",
       "\n",
       "      Service  Wifi  Value Recommended  \n",
       "0           5     0      5         yes  \n",
       "1           4     5      4         yes  \n",
       "2           3     1      1          no  \n",
       "3           4     4      4         yes  \n",
       "4           5     5      5         yes  \n",
       "...       ...   ...    ...         ...  \n",
       "2263        0     0      4         yes  \n",
       "2264        0     0      5         yes  \n",
       "2265        0     0      3          no  \n",
       "2266        0     0      3          no  \n",
       "2267        0     0      4          no  \n",
       "\n",
       "[2268 rows x 19 columns]"
      ]
     },
     "execution_count": 34,
     "metadata": {},
     "output_type": "execute_result"
    }
   ],
   "source": [
    "dataset = pd.DataFrame(data)\n",
    "dataset"
   ]
  },
  {
   "cell_type": "code",
   "execution_count": 86,
   "metadata": {},
   "outputs": [],
   "source": [
    "# Save the DataFrame to an Excel file\n",
    "dataset.to_excel('Emirates Review Scrapped Data.xlsx', index=False)  # Set index=False to exclude the index column"
   ]
  },
  {
   "attachments": {},
   "cell_type": "markdown",
   "metadata": {},
   "source": [
    "It's done! Time to analysis."
   ]
  }
 ],
 "metadata": {
  "kernelspec": {
   "display_name": "Python 3",
   "language": "python",
   "name": "python3"
  },
  "language_info": {
   "codemirror_mode": {
    "name": "ipython",
    "version": 3
   },
   "file_extension": ".py",
   "mimetype": "text/x-python",
   "name": "python",
   "nbconvert_exporter": "python",
   "pygments_lexer": "ipython3",
   "version": "3.11.4"
  },
  "orig_nbformat": 4
 },
 "nbformat": 4,
 "nbformat_minor": 2
}
